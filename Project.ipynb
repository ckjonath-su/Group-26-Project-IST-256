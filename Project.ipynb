{
 "cells": [
  {
   "cell_type": "code",
   "execution_count": 2,
   "metadata": {},
   "outputs": [],
   "source": [
    "import pandas as pd\n",
    "import numpy as np\n",
    "import zillow\n",
    "import xmltodict\n",
    "from pprint import pprint\n",
    "\n",
    "import requests\n",
    "import json \n",
    "%matplotlib inline \n",
    "\n",
    "import matplotlib\n",
    "import matplotlib.pyplot as plt\n",
    "import plotly \n",
    "import plotly.plotly as py     \n",
    "import plotly.graph_objs as go  \n",
    "import cufflinks as cf\n",
    "import pandas as pd\n",
    "import folium\n",
    "import warnings\n",
    "#matplotlib.rcParams['figure.figsize'] = (20.0, 10.0) # larger figure size\n",
    "warnings.filterwarnings('ignore')\n"
   ]
  },
  {
   "cell_type": "code",
   "execution_count": null,
   "metadata": {},
   "outputs": [],
   "source": [
    "address = datastore['SearchResults:searchresults']['street']\n",
    "    bedrooms = datastore['SearchResults:searchresults']['bedrooms']\n",
    "    bathrooms = datastore['SearchResults:searchresults']['bathrooms']\n",
    "    size = datastore['SearchResults:searchresults']['finishedSqft']\n",
    "\n",
    " bedrooms = datastore['SearchResults:searchresults']['request']['bedrooms']\n",
    "    bathrooms = datastore['SearchResults:searchresults']['request']['bathrooms']\n",
    "    size = datastore['SearchResults:searchresults']['request']['finishedSqft']\n",
    "    year = datastore['SearchResults:searchresults']['request']['yearBuilt']\n",
    "    lowprice = datastore['SearchResults:searchresults']['request']['low']['#text'"
   ]
  },
  {
   "cell_type": "code",
   "execution_count": 9,
   "metadata": {
    "scrolled": true
   },
   "outputs": [
    {
     "data": {
      "text/plain": [
       "'2114 Bigelow Ave'"
      ]
     },
     "execution_count": 9,
     "metadata": {},
     "output_type": "execute_result"
    }
   ],
   "source": [
    "import requests, json, xmltodict, requests\n",
    "def housinginfo(city, state):\n",
    "    url = 'http://www.zillow.com/webservice/GetRegionChildren.htm?zws-id=X1-ZWz18mobi4mvij_2doog&state=%s&city=%s&childtype=neighborhood' % (state, city)\n",
    "    response = requests.get(url)\n",
    "    data = response.text\n",
    "    \n",
    "    jsonString = json.dumps(xmltodict.parse(data), indent=4)\n",
    "\n",
    "    with open(\"output.json\") as f:\n",
    "        datastore = json.load(f)\n",
    "        \n",
    "    address = datastore['SearchResults:searchresults']['request']['address']\n",
    "    \n",
    "    return(address)\n",
    "\n",
    "city = 'omaha'\n",
    "state = 'ne'\n",
    "housinginfo(city, state)"
   ]
  },
  {
   "cell_type": "code",
   "execution_count": 11,
   "metadata": {
    "scrolled": true
   },
   "outputs": [],
   "source": [
    "#Below is an example of calling the API for a listing of neighborhoods in Seattle, WA: \n",
    "#http://www.zillow.com/webservice/GetRegionChildren.htm?zws-id=<ZWSID>&state=wa&city=seattle&childtype=neighborhood\n",
    "#http://www.zillow.com/webservice/GetRegionChildren.htm?zws-id=X1-ZWz18mobi4mvij_2doog&state=%s&city=%s&childtype=neighborhood\n",
    "\n",
    "#with open(\"output.json\") as f:\n",
    "    #datastore = json.load(f)"
   ]
  },
  {
   "cell_type": "code",
   "execution_count": null,
   "metadata": {},
   "outputs": [],
   "source": [
    "http://www.zillow.com/webservice/GetDeepSearchResults.htm?zws-id=<ZWSID>&address=2114+Bigelow+Ave&citystatezip=Seattle%2C+WA\n"
   ]
  },
  {
   "cell_type": "code",
   "execution_count": 7,
   "metadata": {
    "scrolled": true
   },
   "outputs": [
    {
     "ename": "TypeError",
     "evalue": "string indices must be integers",
     "output_type": "error",
     "traceback": [
      "\u001b[1;31m---------------------------------------------------------------------------\u001b[0m",
      "\u001b[1;31mTypeError\u001b[0m                                 Traceback (most recent call last)",
      "\u001b[1;32m<ipython-input-7-57d9b75e60b5>\u001b[0m in \u001b[0;36m<module>\u001b[1;34m()\u001b[0m\n\u001b[0;32m     11\u001b[0m \u001b[1;33m\u001b[0m\u001b[0m\n\u001b[0;32m     12\u001b[0m \u001b[1;31m#Use the new datastore datastructure\u001b[0m\u001b[1;33m\u001b[0m\u001b[1;33m\u001b[0m\u001b[0m\n\u001b[1;32m---> 13\u001b[1;33m \u001b[0mprint\u001b[0m \u001b[1;33m(\u001b[0m\u001b[0mjsonString\u001b[0m\u001b[1;33m[\u001b[0m\u001b[1;34m\"SearchResults:searchresults\"\u001b[0m\u001b[1;33m]\u001b[0m\u001b[1;33m[\u001b[0m\u001b[1;34m\"request\"\u001b[0m\u001b[1;33m]\u001b[0m\u001b[1;33m[\u001b[0m\u001b[1;34m\"address\"\u001b[0m\u001b[1;33m]\u001b[0m\u001b[1;33m)\u001b[0m\u001b[1;33m\u001b[0m\u001b[0m\n\u001b[0m",
      "\u001b[1;31mTypeError\u001b[0m: string indices must be integers"
     ]
    }
   ],
   "source": [
    "import requests\n",
    "import json\n",
    "\n",
    "url = 'http://www.zillow.com/webservice/GetDeepSearchResults.htm?zws-id=X1-ZWz18mobi4mvij_2doog&address=2114+Bigelow+Ave&citystatezip=Seattle%2C+WA'\n",
    "response = requests.get(url)\n",
    "\n",
    "data = response.text\n",
    "     \n",
    "jsonString = json.dumps(xmltodict.parse(data), indent=4)\n",
    "\n",
    "\n",
    "#Use the new datastore datastructure\n",
    "print (jsonString[\"SearchResults:searchresults\"][\"request\"][\"address\"])"
   ]
  },
  {
   "cell_type": "code",
   "execution_count": 7,
   "metadata": {},
   "outputs": [],
   "source": [
    "def deephouseinfo(number, street, city, state):\n",
    "    url = 'http://www.zillow.com/webservice/GetDeepSearchResults.htm?zws-id=X1-ZWz18mobi4mvij_2doog&address=%s+%s&citystatezip=%s+%s'% (number, street, city, state)\n",
    "    response = requests.get(url)\n",
    "    data = response.text\n",
    "     \n",
    "    jsonString = json.dumps(xmltodict.parse(data), indent=4)\n",
    "\n",
    "    with open(\"output.json\") as f:\n",
    "        datastore = json.load(f)\n",
    "\n",
    "    return(datastore)\n",
    "    \n"
   ]
  },
  {
   "cell_type": "code",
   "execution_count": 30,
   "metadata": {},
   "outputs": [
    {
     "name": "stdout",
     "output_type": "stream",
     "text": [
      "THE HOME FINDER\n",
      "___________________________________________________________________________________________________________________\n",
      "Are you interested in acquiring a home? (Y/N): Y\n",
      "Okay, Let's start by finding you houses. \n",
      "Please enter a state you would like to live in: Arizona\n",
      "Please enter a city you would like to live in: edf\n"
     ]
    }
   ],
   "source": [
    "print('THE HOME FINDER')\n",
    "print('___________________________________________________________________________________________________________________')\n",
    "\n",
    "question = input(\"Are you interested in acquiring a home? (Y/N): \").upper\n",
    "\n",
    "if question != 'Y' or 'N':\n",
    "    print(\"Please choose either (Y/N).\")\n",
    "    break\n",
    "\n",
    "elif question == 'N':\n",
    "    print(\"Thank you for using the home finder\")\n",
    "    break\n",
    "    \n",
    "elif question == 'Y':\n",
    "    print(\"Okay, Let's start by finding you possible houses in a particlar area. \")\n",
    "    state = input(\"Please enter a state you would like to live in: \")\n",
    "    city = input(\"Please enter a city you would like to live in: \")\n",
    "    \n",
    "    housinginfo(city, state)\n",
    "    \n",
    "    print()\n",
    "    \n",
    "    \n",
    "    \n",
    "        \n",
    "     \n",
    "    "
   ]
  },
  {
   "cell_type": "code",
   "execution_count": 4,
   "metadata": {},
   "outputs": [
    {
     "name": "stdout",
     "output_type": "stream",
     "text": [
      "\n",
      "JSON output(output.json):\n"
     ]
    },
    {
     "data": {
      "text/plain": [
       "'{\\n    \"RegionChildren:regionchildren\": {\\n        \"@xsi:schemaLocation\": \"http://www.zillow.com/static/xsd/RegionChildren.xsd https://www.zillowstatic.com/vstatic/b20c067/static/xsd/RegionChildren.xsd\",\\n        \"@xmlns:xsi\": \"http://www.w3.org/2001/XMLSchema-instance\",\\n        \"@xmlns:RegionChildren\": \"http://www.zillow.com/static/xsd/RegionChildren.xsd\",\\n        \"request\": {\\n            \"state\": \"nc\",\\n            \"city\": \"mebane\",\\n            \"childtype\": \"neighborhood\"\\n        },\\n        \"message\": {\\n            \"text\": \"Request successfully processed\",\\n            \"code\": \"0\"\\n        },\\n        \"response\": {\\n            \"region\": {\\n                \"id\": \"29105\",\\n                \"latitude\": \"36.13716\",\\n                \"longitude\": \"-79.272444\"\\n            },\\n            \"subregiontype\": \"neighborhood\",\\n            \"list\": {\\n                \"count\": \"1\",\\n                \"region\": {\\n                    \"id\": \"185045\",\\n                    \"name\": \"Woodlawn\",\\n                    \"url\": \"http://www.zillow.com/local-info/NC-Mebane/Woodlawn/r_185045/\",\\n                    \"latitude\": \"36.118497\",\\n                    \"longitude\": \"-79.301767\"\\n                }\\n            }\\n        }\\n    }\\n}'"
      ]
     },
     "execution_count": 4,
     "metadata": {},
     "output_type": "execute_result"
    }
   ],
   "source": [
    "def originalhousinginfo(city, state):\n",
    "    url = 'http://www.zillow.com/webservice/GetRegionChildren.htm?zws-id=X1-ZWz18mobi4mvij_2doog&state=%s&city=%s&childtype=neighborhood' % (state, city)\n",
    "    response = requests.get(url)\n",
    "    datas = response.text\n",
    "     \n",
    "    jsonString = json.dumps(xmltodict.parse(datas), indent=4)\n",
    "    \n",
    "    print(\"\\nJSON output(output.json):\")\n",
    "    return( jsonString)\n",
    "    \n",
    "    \n",
    "originalhousinginfo('mebane', 'nc')"
   ]
  },
  {
   "cell_type": "code",
   "execution_count": 18,
   "metadata": {},
   "outputs": [
    {
     "name": "stdout",
     "output_type": "stream",
     "text": [
      "\n",
      "JSON output(output.json):\n"
     ]
    },
    {
     "data": {
      "text/plain": [
       "'{\\n    \"SearchResults:searchresults\": {\\n        \"@xsi:schemaLocation\": \"http://www.zillow.com/static/xsd/SearchResults.xsd https://www.zillowstatic.com/vstatic/b20c067/static/xsd/SearchResults.xsd\",\\n        \"@xmlns:xsi\": \"http://www.w3.org/2001/XMLSchema-instance\",\\n        \"@xmlns:SearchResults\": \"http://www.zillow.com/static/xsd/SearchResults.xsd\",\\n        \"request\": {\\n            \"address\": \"10780 gooseneck bend road\",\\n            \"citystatezip\": \"platte city mo\"\\n        },\\n        \"message\": {\\n            \"text\": \"Request successfully processed\",\\n            \"code\": \"0\"\\n        },\\n        \"response\": {\\n            \"results\": {\\n                \"result\": {\\n                    \"zpid\": \"2484253\",\\n                    \"links\": {\\n                        \"homedetails\": \"https://www.zillow.com/homedetails/10780-Gooseneck-Bend-Rd-Platte-City-MO-64079/2484253_zpid/\",\\n                        \"graphsanddata\": \"http://www.zillow.com/homedetails/10780-Gooseneck-Bend-Rd-Platte-City-MO-64079/2484253_zpid/#charts-and-data\",\\n                        \"mapthishome\": \"http://www.zillow.com/homes/2484253_zpid/\",\\n                        \"comparables\": \"http://www.zillow.com/homes/comps/2484253_zpid/\"\\n                    },\\n                    \"address\": {\\n                        \"street\": \"10780 Gooseneck Bend Rd\",\\n                        \"zipcode\": \"64079\",\\n                        \"city\": \"PLATTE CITY\",\\n                        \"state\": \"MO\",\\n                        \"latitude\": \"39.400595\",\\n                        \"longitude\": \"-94.699421\"\\n                    },\\n                    \"FIPScounty\": \"29165\",\\n                    \"useCode\": \"SingleFamily\",\\n                    \"taxAssessmentYear\": \"2017\",\\n                    \"taxAssessment\": \"316418.0\",\\n                    \"yearBuilt\": \"2001\",\\n                    \"lotSizeSqFt\": \"4850972\",\\n                    \"finishedSqFt\": \"3171\",\\n                    \"bathrooms\": \"3.0\",\\n                    \"zestimate\": {\\n                        \"amount\": {\\n                            \"@currency\": \"USD\",\\n                            \"#text\": \"528700\"\\n                        },\\n                        \"last-updated\": \"05/06/2018\",\\n                        \"oneWeekChange\": {\\n                            \"@deprecated\": \"true\"\\n                        },\\n                        \"valueChange\": {\\n                            \"@duration\": \"30\",\\n                            \"@currency\": \"USD\",\\n                            \"#text\": \"15037\"\\n                        },\\n                        \"valuationRange\": {\\n                            \"low\": {\\n                                \"@currency\": \"USD\",\\n                                \"#text\": \"475830\"\\n                            },\\n                            \"high\": {\\n                                \"@currency\": \"USD\",\\n                                \"#text\": \"576283\"\\n                            }\\n                        },\\n                        \"percentile\": \"0\"\\n                    },\\n                    \"localRealEstate\": null\\n                }\\n            }\\n        }\\n    }\\n}'"
      ]
     },
     "execution_count": 18,
     "metadata": {},
     "output_type": "execute_result"
    }
   ],
   "source": [
    "def originaldeephouseinfo(number, street, city, state):\n",
    "    url = 'http://www.zillow.com/webservice/GetDeepSearchResults.htm?zws-id=X1-ZWz18mobi4mvij_2doog&address=%s+%s&citystatezip=%s+%s'% (number, street, city, state)\n",
    "    response = requests.get(url)\n",
    "    data = response.text\n",
    "    \n",
    "    jsonString = json.dumps(xmltodict.parse(data), indent=4)\n",
    "\n",
    "    print(\"\\nJSON output(output.json):\")\n",
    "    return (jsonString)\n",
    "\n",
    "\n",
    "\n",
    "\n",
    "\n",
    "\n",
    "\n",
    "number = '10780'\n",
    "street = 'gooseneck bend road'\n",
    "city = 'platte city'\n",
    "state = 'mo'\n",
    "originaldeephouseinfo(number, street, city, state)\n",
    "     "
   ]
  },
  {
   "cell_type": "code",
   "execution_count": 10,
   "metadata": {},
   "outputs": [
    {
     "name": "stdout",
     "output_type": "stream",
     "text": [
      "Help on method_descriptor:\n",
      "\n",
      "format(...)\n",
      "    S.format(*args, **kwargs) -> str\n",
      "    \n",
      "    Return a formatted version of S, using substitutions from args and kwargs.\n",
      "    The substitutions are identified by braces ('{' and '}').\n",
      "\n"
     ]
    }
   ],
   "source": [
    "dir(str)\n",
    "help(str.format)"
   ]
  },
  {
   "cell_type": "code",
   "execution_count": null,
   "metadata": {},
   "outputs": [],
   "source": []
  }
 ],
 "metadata": {
  "kernelspec": {
   "display_name": "Python 3",
   "language": "python",
   "name": "python3"
  },
  "language_info": {
   "codemirror_mode": {
    "name": "ipython",
    "version": 3
   },
   "file_extension": ".py",
   "mimetype": "text/x-python",
   "name": "python",
   "nbconvert_exporter": "python",
   "pygments_lexer": "ipython3",
   "version": "3.6.3"
  }
 },
 "nbformat": 4,
 "nbformat_minor": 2
}
