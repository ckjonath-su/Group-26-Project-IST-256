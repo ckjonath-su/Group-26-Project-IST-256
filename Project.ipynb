{
 "cells": [
  {
   "cell_type": "code",
   "execution_count": 1,
   "metadata": {},
   "outputs": [],
   "source": [
    "import pandas as pd\n",
    "import numpy as np\n",
    "\n",
    "import requests\n",
    "import json \n",
    "%matplotlib inline \n",
    "\n",
    "import matplotlib\n",
    "import matplotlib.pyplot as plt\n",
    "import plotly \n",
    "import plotly.plotly as py     \n",
    "import plotly.graph_objs as go  \n",
    "import cufflinks as cf\n",
    "import pandas as pd\n",
    "import folium\n",
    "import warnings\n",
    "#matplotlib.rcParams['figure.figsize'] = (20.0, 10.0) # larger figure size\n",
    "warnings.filterwarnings('ignore')"
   ]
  },
  {
   "cell_type": "code",
   "execution_count": 17,
   "metadata": {
    "scrolled": false
   },
   "outputs": [],
   "source": [
    "def housinginfo(city, state):\n",
    "    url = 'http://www.zillow.com/webservice/GetRegionChildren.htm?zws-id=X1-ZWz18mobi4mvij_2doog&state=%s&city=%s&childtype=neighborhood' % (state, city)\n",
    "    response = requests.get(url)\n",
    "    data = response.text\n",
    "    return data\n",
    "    \n",
    "\n",
    "housinginfo('mebane', 'nc')"
   ]
  },
  {
   "cell_type": "code",
   "execution_count": 14,
   "metadata": {},
   "outputs": [
    {
     "name": "stdout",
     "output_type": "stream",
     "text": [
      "<?xml version=\"1.0\" encoding=\"utf-8\"?><RegionChildren:regionchildren xsi:schemaLocation=\"http://www.zillow.com/static/xsd/RegionChildren.xsd https://www.zillowstatic.com/vstatic/b20c067/static/xsd/RegionChildren.xsd\" xmlns:xsi=\"http://www.w3.org/2001/XMLSchema-instance\" xmlns:RegionChildren=\"http://www.zillow.com/static/xsd/RegionChildren.xsd\"><request><state>wa</state><city>seattle</city><childtype>neighborhood</childtype></request><message><text>Request successfully processed</text><code>0</code></message><response><region><id>16037</id><latitude>47.614848</latitude><longitude>-122.33607</longitude></region><subregiontype>neighborhood</subregiontype><list><count>102</count><region><id>250206</id><name>Capitol Hill</name><zindex currency=\"USD\">415600</zindex><url>http://www.zillow.com/local-info/WA-Seattle/Capitol-Hill/r_250206/</url><latitude>47.62622</latitude><longitude>-122.315979</longitude></region><region><id>272001</id><name>University District</name><zindex currency=\"USD\">514200</zindex><url>http://www.zillow.com/local-info/WA-Seattle/University-District/r_272001/</url><latitude>47.660897</latitude><longitude>-122.305045</longitude></region><region><id>271990</id><name>Magnolia</name><zindex currency=\"USD\">662000</zindex><url>http://www.zillow.com/local-info/WA-Seattle/Magnolia/r_271990/</url><latitude>47.650943</latitude><longitude>-122.409136</longitude></region><region><id>250788</id><name>Greenwood</name><zindex currency=\"USD\">421400</zindex><url>http://www.zillow.com/local-info/WA-Seattle/Greenwood/r_250788/</url><latitude>47.694211</latitude><longitude>-122.355289</longitude></region><region><id>252248</id><name>Wallingford</name><zindex currency=\"USD\">608500</zindex><url>http://www.zillow.com/local-info/WA-Seattle/Wallingford/r_252248/</url><latitude>47.658763</latitude><longitude>-122.334464</longitude></region><region><id>250050</id><name>Beacon Hill</name><zindex currency=\"USD\">361900</zindex><url>http://www.zillow.com/local-info/WA-Seattle/Beacon-Hill/r_250050/</url><latitude>47.556114</latitude><longitude>-122.302828</longitude></region><region><id>250692</id><name>Fremont</name><zindex currency=\"USD\">505400</zindex><url>http://www.zillow.com/local-info/WA-Seattle/Fremont/r_250692/</url><latitude>47.656187</latitude><longitude>-122.352184</longitude></region><region><id>344019</id><name>Admiral</name><zindex currency=\"USD\">530100</zindex><url>http://www.zillow.com/local-info/WA-Seattle/Admiral/r_344019/</url><latitude>47.581622</latitude><longitude>-122.387362</longitude></region><region><id>251709</id><name>Ravenna</name><zindex currency=\"USD\">573300</zindex><url>http://www.zillow.com/local-info/WA-Seattle/Ravenna/r_251709/</url><latitude>47.675777</latitude><longitude>-122.301115</longitude></region><region><id>271869</id><name>First Hill</name><zindex currency=\"USD\">296000</zindex><url>http://www.zillow.com/local-info/WA-Seattle/First-Hill/r_271869/</url><latitude>47.60819</latitude><longitude>-122.323829</longitude></region><region><id>271932</id><name>North Beacon Hill</name><zindex currency=\"USD\">400900</zindex><url>http://www.zillow.com/local-info/WA-Seattle/North-Beacon-Hill/r_271932/</url><latitude>47.578054</latitude><longitude>-122.308873</longitude></region><region><id>271942</id><name>North Queen Anne</name><zindex currency=\"USD\">658000</zindex><url>http://www.zillow.com/local-info/WA-Seattle/North-Queen-Anne/r_271942/</url><latitude>47.649291</latitude><longitude>-122.36301</longitude></region><region><id>344000</id><name>Maple Leaf</name><zindex currency=\"USD\">468500</zindex><url>http://www.zillow.com/local-info/WA-Seattle/Maple-Leaf/r_344000/</url><latitude>47.695035</latitude><longitude>-122.316628</longitude></region><region><id>271961</id><name>Phinney Ridge</name><zindex currency=\"USD\">586600</zindex><url>http://www.zillow.com/local-info/WA-Seattle/Phinney-Ridge/r_271961/</url><latitude>47.672704</latitude><longitude>-122.355277</longitude></region><region><id>271808</id><name>Belltown</name><zindex currency=\"USD\">376700</zindex><url>http://www.zillow.com/local-info/WA-Seattle/Belltown/r_271808/</url><latitude>47.614592</latitude><longitude>-122.348464</longitude></region><region><id>250780</id><name>Green Lake</name><zindex currency=\"USD\">573500</zindex><url>http://www.zillow.com/local-info/WA-Seattle/Green-Lake/r_250780/</url><latitude>47.679959</latitude><longitude>-122.333709</longitude></region><region><id>271814</id><name>Bitter Lake</name><zindex currency=\"USD\">363500</zindex><url>http://www.zillow.com/local-info/WA-Seattle/Bitter-Lake/r_271814/</url><latitude>47.719625</latitude><longitude>-122.35012</longitude></region><region><id>271921</id><name>Minor</name><zindex currency=\"USD\">450500</zindex><url>http://www.zillow.com/local-info/WA-Seattle/Minor/r_271921/</url><latitude>47.609068</latitude><longitude>-122.309629</longitude></region><region><id>271819</id><name>Broadview</name><zindex currency=\"USD\">518100</zindex><url>http://www.zillow.com/local-info/WA-Seattle/Broadview/r_271819/</url><latitude>47.719649</latitude><longitude>-122.368864</longitude></region><region><id>250017</id><name>Ballard</name><zindex currency=\"USD\">397200</zindex><url>http://www.zillow.com/local-info/WA-Seattle/Ballard/r_250017/</url><latitude>47.668328</latitude><longitude>-122.387233</longitude></region><region><id>250801</id><name>Haller Lake</name><zindex currency=\"USD\">368700</zindex><url>http://www.zillow.com/local-info/WA-Seattle/Haller-Lake/r_250801/</url><latitude>47.719604</latitude><longitude>-122.334753</longitude></region><region><id>343999</id><name>North College Park</name><zindex currency=\"USD\">388200</zindex><url>http://www.zillow.com/local-info/WA-Seattle/North-College-Park/r_343999/</url><latitude>47.699483</latitude><longitude>-122.336865</longitude></region><region><id>250146</id><name>Brighton</name><zindex currency=\"USD\">324700</zindex><url>http://www.zillow.com/local-info/WA-Seattle/Brighton/r_250146/</url><latitude>47.538786</latitude><longitude>-122.275961</longitude></region><region><id>344001</id><name>Wedgwood</name><zindex currency=\"USD\">523700</zindex><url>http://www.zillow.com/local-info/WA-Seattle/Wedgwood/r_344001/</url><latitude>47.690136</latitude><longitude>-122.293779</longitude></region><region><id>251170</id><name>Loyal Heights</name><zindex currency=\"USD\">522500</zindex><url>http://www.zillow.com/local-info/WA-Seattle/Loyal-Heights/r_251170/</url><latitude>47.683235</latitude><longitude>-122.384852</longitude></region><region><id>271839</id><name>Columbia City</name><zindex currency=\"USD\">379000</zindex><url>http://www.zillow.com/local-info/WA-Seattle/Columbia-City/r_271839/</url><latitude>47.5648</latitude><longitude>-122.286003</longitude></region><region><id>344008</id><name>West Woodland</name><zindex currency=\"USD\">485800</zindex><url>http://www.zillow.com/local-info/WA-Seattle/West-Woodland/r_344008/</url><latitude>47.666069</latitude><longitude>-122.368621</longitude></region><region><id>271957</id><name>Olympic Hills</name><zindex currency=\"USD\">365200</zindex><url>http://www.zillow.com/local-info/WA-Seattle/Olympic-Hills/r_271957/</url><latitude>47.726604</latitude><longitude>-122.302454</longitude></region><region><id>271856</id><name>East Queen Anne</name><zindex currency=\"USD\">667300</zindex><url>http://www.zillow.com/local-info/WA-Seattle/East-Queen-Anne/r_271856/</url><latitude>47.637701</latitude><longitude>-122.350191</longitude></region><region><id>271849</id><name>Downtown</name><zindex currency=\"USD\">563000</zindex><url>http://www.zillow.com/local-info/WA-Seattle/Downtown/r_271849/</url><latitude>47.607346</latitude><longitude>-122.335089</longitude></region><region><id>344033</id><name>High Point</name><zindex currency=\"USD\">322800</zindex><url>http://www.zillow.com/local-info/WA-Seattle/High-Point/r_344033/</url><latitude>47.543744</latitude><longitude>-122.368502</longitude></region><region><id>343997</id><name>Alki</name><zindex currency=\"USD\">568600</zindex><url>http://www.zillow.com/local-info/WA-Seattle/Alki/r_343997/</url><latitude>47.576915</latitude><longitude>-122.401607</longitude></region><region><id>344029</id><name>Highland Park</name><zindex currency=\"USD\">287200</zindex><url>http://www.zillow.com/local-info/WA-Seattle/Highland-Park/r_344029/</url><latitude>47.527126</latitude><longitude>-122.341404</longitude></region><region><id>344022</id><name>Gatewood</name><zindex currency=\"USD\">446800</zindex><url>http://www.zillow.com/local-info/WA-Seattle/Gatewood/r_344022/</url><latitude>47.537448</latitude><longitude>-122.387812</longitude></region><region><id>251704</id><name>Rainier Beach</name><zindex currency=\"USD\">296000</zindex><url>http://www.zillow.com/local-info/WA-Seattle/Rainier-Beach/r_251704/</url><latitude>47.511649</latitude><longitude>-122.257974</longitude></region><region><id>272018</id><name>West Queen Anne</name><zindex currency=\"USD\">703100</zindex><url>http://www.zillow.com/local-info/WA-Seattle/West-Queen-Anne/r_272018/</url><latitude>47.633342</latitude><longitude>-122.366405</longitude></region><region><id>344031</id><name>South Delridge</name><zindex currency=\"USD\">268000</zindex><url>http://www.zillow.com/local-info/WA-Seattle/South-Delridge/r_344031/</url><latitude>47.52674</latitude><longitude>-122.361155</longitude></region><region><id>252056</id><name>Sunset Hill</name><zindex currency=\"USD\">612800</zindex><url>http://www.zillow.com/local-info/WA-Seattle/Sunset-Hill/r_252056/</url><latitude>47.682099</latitude><longitude>-122.402466</longitude></region><region><id>344020</id><name>Genesee</name><zindex currency=\"USD\">458300</zindex><url>http://www.zillow.com/local-info/WA-Seattle/Genesee/r_344020/</url><latitude>47.564809</latitude><longitude>-122.38585</longitude></region><region><id>343993</id><name>Pinehurst</name><zindex currency=\"USD\">365100</zindex><url>http://www.zillow.com/local-info/WA-Seattle/Pinehurst/r_343993/</url><latitude>47.723129</latitude><longitude>-122.320343</longitude></region><region><id>271913</id><name>Matthews Beach</name><zindex currency=\"USD\">556700</zindex><url>http://www.zillow.com/local-info/WA-Seattle/Matthews-Beach/r_271913/</url><latitude>47.703815</latitude><longitude>-122.279031</longitude></region><region><id>271906</id><name>Lower Queen Anne</name><zindex currency=\"USD\">449200</zindex><url>http://www.zillow.com/local-info/WA-Seattle/Lower-Queen-Anne/r_271906/</url><latitude>47.628861</latitude><longitude>-122.354041</longitude></region><region><id>250478</id><name>Dunlap</name><zindex currency=\"USD\">277100</zindex><url>http://www.zillow.com/local-info/WA-Seattle/Dunlap/r_250478/</url><latitude>47.525357</latitude><longitude>-122.270274</longitude></region><region><id>344021</id><name>Fairmount Park</name><zindex currency=\"USD\">424900</zindex><url>http://www.zillow.com/local-info/WA-Seattle/Fairmount-Park/r_344021/</url><latitude>47.558159</latitude><longitude>-122.378924</longitude></region><region><id>344024</id><name>Arbor Heights</name><zindex currency=\"USD\">385500</zindex><url>http://www.zillow.com/local-info/WA-Seattle/Arbor-Heights/r_344024/</url><latitude>47.506711</latitude><longitude>-122.381062</longitude></region><region><id>344003</id><name>Bryant</name><zindex currency=\"USD\">569300</zindex><url>http://www.zillow.com/local-info/WA-Seattle/Bryant/r_344003/</url><latitude>47.672037</latitude><longitude>-122.286168</longitude></region><region><id>272005</id><name>Victory Heights</name><zindex currency=\"USD\">422200</zindex><url>http://www.zillow.com/local-info/WA-Seattle/Victory-Heights/r_272005/</url><latitude>47.709842</latitude><longitude>-122.303948</longitude></region><region><id>271831</id><name>Cedar Park</name><zindex currency=\"USD\">432200</zindex><url>http://www.zillow.com/local-info/WA-Seattle/Cedar-Park/r_271831/</url><latitude>47.724628</latitude><longitude>-122.287479</longitude></region><region><id>252336</id><name>Whittier Heights</name><zindex currency=\"USD\">524800</zindex><url>http://www.zillow.com/local-info/WA-Seattle/Whittier-Heights/r_252336/</url><latitude>47.683314</latitude><longitude>-122.371424</longitude></region><region><id>250150</id><name>Broadway</name><url>http://www.zillow.com/local-info/WA-Seattle/Broadway/r_250150/</url><latitude>47.62622</latitude><longitude>-122.321452</longitude></region><region><id>344002</id><name>Roosevelt</name><zindex currency=\"USD\">532800</zindex><url>http://www.zillow.com/local-info/WA-Seattle/Roosevelt/r_344002/</url><latitude>47.680657</latitude><longitude>-122.313832</longitude></region><region><id>343994</id><name>South Beacon Hill</name><zindex currency=\"USD\">319100</zindex><url>http://www.zillow.com/local-info/WA-Seattle/South-Beacon-Hill/r_343994/</url><latitude>47.524379</latitude><longitude>-122.289554</longitude></region><region><id>251100</id><name>Laurelhurst</name><zindex currency=\"USD\">1070400</zindex><url>http://www.zillow.com/local-info/WA-Seattle/Laurelhurst/r_251100/</url><latitude>47.658207</latitude><longitude>-122.278598</longitude></region><region><id>344030</id><name>Roxhill</name><zindex currency=\"USD\">324300</zindex><url>http://www.zillow.com/local-info/WA-Seattle/Roxhill/r_344030/</url><latitude>47.527392</latitude><longitude>-122.370661</longitude></region><region><id>344023</id><name>Fauntleroy</name><zindex currency=\"USD\">535900</zindex><url>http://www.zillow.com/local-info/WA-Seattle/Fauntleroy/r_344023/</url><latitude>47.52047</latitude><longitude>-122.389647</longitude></region><region><id>271857</id><name>Eastlake</name><zindex currency=\"USD\">428400</zindex><url>http://www.zillow.com/local-info/WA-Seattle/Eastlake/r_271857/</url><latitude>47.643806</latitude><longitude>-122.326777</longitude></region><region><id>251971</id><name>South Park</name><zindex currency=\"USD\">253300</zindex><url>http://www.zillow.com/local-info/WA-Seattle/South-Park/r_251971/</url><latitude>47.52986</latitude><longitude>-122.321972</longitude></region><region><id>250939</id><name>Interbay</name><url>http://www.zillow.com/local-info/WA-Seattle/Interbay/r_250939/</url><latitude>47.64247</latitude><longitude>-122.379722</longitude></region><region><id>344010</id><name>Uptown</name><zindex currency=\"USD\">314200</zindex><url>http://www.zillow.com/local-info/WA-Seattle/Uptown/r_344010/</url><latitude>47.622282</latitude><longitude>-122.354226</longitude></region><region><id>250889</id><name>Holly Park</name><zindex currency=\"USD\">305500</zindex><url>http://www.zillow.com/local-info/WA-Seattle/Holly-Park/r_250889/</url><latitude>47.53795</latitude><longitude>-122.288786</longitude></region><region><id>343996</id><name>View Ridge</name><zindex currency=\"USD\">656000</zindex><url>http://www.zillow.com/local-info/WA-Seattle/View-Ridge/r_343996/</url><latitude>47.683937</latitude><longitude>-122.27431</longitude></region><region><id>251187</id><name>Madrona</name><zindex currency=\"USD\">695800</zindex><url>http://www.zillow.com/local-info/WA-Seattle/Madrona/r_251187/</url><latitude>47.61269</latitude><longitude>-122.288998</longitude></region><region><id>344027</id><name>Rainier View</name><zindex currency=\"USD\">243200</zindex><url>http://www.zillow.com/local-info/WA-Seattle/Rainier-View/r_344027/</url><latitude>47.500983</latitude><longitude>-122.256076</longitude></region><region><id>56654</id><name>Seaview</name><zindex currency=\"USD\">470700</zindex><url>http://www.zillow.com/local-info/WA-Seattle/Seaview/r_56654/</url><latitude>47.550758</latitude><longitude>-122.396108</longitude></region><region><id>272022</id><name>Westlake</name><zindex currency=\"USD\">406900</zindex><url>http://www.zillow.com/local-info/WA-Seattle/Westlake/r_272022/</url><latitude>47.636611</latitude><longitude>-122.342938</longitude></region><region><id>344032</id><name>North Delridge</name><zindex currency=\"USD\">325500</zindex><url>http://www.zillow.com/local-info/WA-Seattle/North-Delridge/r_344032/</url><latitude>47.562584</latitude><longitude>-122.363922</longitude></region><region><id>344012</id><name>Madison Valley</name><zindex currency=\"USD\">571800</zindex><url>http://www.zillow.com/local-info/WA-Seattle/Madison-Valley/r_344012/</url><latitude>47.626805</latitude><longitude>-122.294018</longitude></region><region><id>271901</id><name>Leschi</name><zindex currency=\"USD\">624600</zindex><url>http://www.zillow.com/local-info/WA-Seattle/Leschi/r_271901/</url><latitude>47.599748</latitude><longitude>-122.290462</longitude></region><region><id>344025</id><name>Hillman City</name><zindex currency=\"USD\">344500</zindex><url>http://www.zillow.com/local-info/WA-Seattle/Hillman-City/r_344025/</url><latitude>47.549944</latitude><longitude>-122.281019</longitude></region><region><id>271915</id><name>Meadowbrook</name><zindex currency=\"USD\">439700</zindex><url>http://www.zillow.com/local-info/WA-Seattle/Meadowbrook/r_271915/</url><latitude>47.7065</latitude><longitude>-122.298032</longitude></region><region><id>344034</id><name>Riverview</name><zindex currency=\"USD\">325300</zindex><url>http://www.zillow.com/local-info/WA-Seattle/Riverview/r_344034/</url><latitude>47.546367</latitude><longitude>-122.35274</longitude></region><region><id>344015</id><name>Judkins Park</name><zindex currency=\"USD\">388900</zindex><url>http://www.zillow.com/local-info/WA-Seattle/Judkins-Park/r_344015/</url><latitude>47.596023</latitude><longitude>-122.301549</longitude></region><region><id>343998</id><name>Northgate</name><zindex currency=\"USD\">234300</zindex><url>http://www.zillow.com/local-info/WA-Seattle/Northgate/r_343998/</url><latitude>47.707712</latitude><longitude>-122.321105</longitude></region><region><id>271923</id><name>Montlake</name><zindex currency=\"USD\">829800</zindex><url>http://www.zillow.com/local-info/WA-Seattle/Montlake/r_271923/</url><latitude>47.64087</latitude><longitude>-122.308456</longitude></region><region><id>271893</id><name>International District</name><url>http://www.zillow.com/local-info/WA-Seattle/International-District/r_271893/</url><latitude>47.596945</latitude><longitude>-122.324714</longitude></region><region><id>343995</id><name>Denny Triangle</name><zindex currency=\"USD\">474400</zindex><url>http://www.zillow.com/local-info/WA-Seattle/Denny-Triangle/r_343995/</url><latitude>47.615618</latitude><longitude>-122.337897</longitude></region><region><id>271900</id><name>Lawton Park</name><url>http://www.zillow.com/local-info/WA-Seattle/Lawton-Park/r_271900/</url><latitude>47.659379</latitude><longitude>-122.409136</longitude></region><region><id>344028</id><name>Mt. Baker</name><zindex currency=\"USD\">665200</zindex><url>http://www.zillow.com/local-info/WA-Seattle/Mt.-Baker/r_344028/</url><latitude>47.577408</latitude><longitude>-122.288815</longitude></region><region><id>250383</id><name>Crown Hill</name><zindex currency=\"USD\">422100</zindex><url>http://www.zillow.com/local-info/WA-Seattle/Crown-Hill/r_250383/</url><latitude>47.697866</latitude><longitude>-122.374616</longitude></region><region><id>251076</id><name>Lakewood</name><zindex currency=\"USD\">493700</zindex><url>http://www.zillow.com/local-info/WA-Seattle/Lakewood/r_251076/</url><latitude>47.562223</latitude><longitude>-122.269429</longitude></region><region><id>344009</id><name>North Beach</name><zindex currency=\"USD\">635800</zindex><url>http://www.zillow.com/local-info/WA-Seattle/North-Beach/r_344009/</url><latitude>47.700841</latitude><longitude>-122.381738</longitude></region><region><id>271987</id><name>South Lake Union</name><url>http://www.zillow.com/local-info/WA-Seattle/South-Lake-Union/r_271987/</url><latitude>47.62908</latitude><longitude>-122.33685</longitude></region><region><id>271892</id><name>Industrial District</name><url>http://www.zillow.com/local-info/WA-Seattle/Industrial-District/r_271892/</url><latitude>47.566784</latitude><longitude>-122.35063</longitude></region><region><id>344014</id><name>Mann</name><zindex currency=\"USD\">468300</zindex><url>http://www.zillow.com/local-info/WA-Seattle/Mann/r_344014/</url><latitude>47.610285</latitude><longitude>-122.299434</longitude></region><region><id>271977</id><name>Seward Park</name><zindex currency=\"USD\">590400</zindex><url>http://www.zillow.com/local-info/WA-Seattle/Seward-Park/r_271977/</url><latitude>47.547011</latitude><longitude>-122.259808</longitude></region><region><id>271815</id><name>Briarcliff</name><url>http://www.zillow.com/local-info/WA-Seattle/Briarcliff/r_271815/</url><latitude>47.642578</latitude><longitude>-122.408081</longitude></region><region><id>251186</id><name>Madison Park</name><zindex currency=\"USD\">988600</zindex><url>http://www.zillow.com/local-info/WA-Seattle/Madison-Park/r_251186/</url><latitude>47.632468</latitude><longitude>-122.284761</longitude></region><region><id>250714</id><name>Georgetown</name><url>http://www.zillow.com/local-info/WA-Seattle/Georgetown/r_250714/</url><latitude>47.540345</latitude><longitude>-122.316845</longitude></region><region><id>271964</id><name>Portage Bay</name><zindex currency=\"USD\">778300</zindex><url>http://www.zillow.com/local-info/WA-Seattle/Portage-Bay/r_271964/</url><latitude>47.647441</latitude><longitude>-122.318551</longitude></region><region><id>250149</id><name>Broadmoor</name><url>http://www.zillow.com/local-info/WA-Seattle/Broadmoor/r_250149/</url><latitude>47.637395</latitude><longitude>-122.290642</longitude></region><region><id>344004</id><name>Hawthorne Hills</name><zindex currency=\"USD\">704300</zindex><url>http://www.zillow.com/local-info/WA-Seattle/Hawthorne-Hills/r_344004/</url><latitude>47.671893</latitude><longitude>-122.271548</longitude></region><region><id>344018</id><name>Waterfront</name><url>http://www.zillow.com/local-info/WA-Seattle/Waterfront/r_344018/</url><latitude>47.605507</latitude><longitude>-122.34804</longitude></region><region><id>252396</id><name>Yesler Terrace</name><url>http://www.zillow.com/local-info/WA-Seattle/Yesler-Terrace/r_252396/</url><latitude>47.602124</latitude><longitude>-122.320733</longitude></region><region><id>344017</id><name>Little Saigon</name><url>http://www.zillow.com/local-info/WA-Seattle/Little-Saigon/r_344017/</url><latitude>47.595204</latitude><longitude>-122.314853</longitude></region><region><id>272026</id><name>Windermere</name><zindex currency=\"USD\">967300</zindex><url>http://www.zillow.com/local-info/WA-Seattle/Windermere/r_272026/</url><latitude>47.670199</latitude><longitude>-122.262975</longitude></region><region><id>271804</id><name>Atlantic</name><url>http://www.zillow.com/local-info/WA-Seattle/Atlantic/r_271804/</url><latitude>47.583337</latitude><longitude>-122.301715</longitude></region><region><id>344007</id><name>Woodland</name><url>http://www.zillow.com/local-info/WA-Seattle/Woodland/r_344007/</url><latitude>47.670466</latitude><longitude>-122.347197</longitude></region><region><id>344016</id><name>Jackson Place</name><zindex currency=\"USD\">375800</zindex><url>http://www.zillow.com/local-info/WA-Seattle/Jackson-Place/r_344016/</url><latitude>47.594793</latitude><longitude>-122.3102</longitude></region><region><id>271975</id><name>Sand Point</name><url>http://www.zillow.com/local-info/WA-Seattle/Sand-Point/r_271975/</url><latitude>47.681855</latitude><longitude>-122.25644</longitude></region><region><id>344011</id><name>Denny - Blaine</name><url>http://www.zillow.com/local-info/WA-Seattle/Denny----Blaine/r_344011/</url><latitude>47.617122</latitude><longitude>-122.284957</longitude></region><region><id>271963</id><name>Pioneer Square</name><url>http://www.zillow.com/local-info/WA-Seattle/Pioneer-Square/r_271963/</url><latitude>47.597829</latitude><longitude>-122.332927</longitude></region><region><id>271886</id><name>Harbor Island</name><url>http://www.zillow.com/local-info/WA-Seattle/Harbor-Island/r_271886/</url><latitude>47.579899</latitude><longitude>-122.352042</longitude></region></list></response></RegionChildren:regionchildren><!-- H:028  T:1489ms  S:12579  R:Sun Apr 29 17:06:04 PDT 2018  B:5.0.53337.1-hotfix_2018-04-26.4eb330c~delivery_ready.adf8d09 -->\n"
     ]
    }
   ],
   "source": [
    "url = 'http://www.zillow.com/webservice/GetRegionChildren.htm?zws-id=X1-ZWz18mobi4mvij_2doog&state=wa&city=seattle&childtype=neighborhood'\n",
    "response = requests.get(url)\n",
    "\n",
    "print(response.text)\n"
   ]
  },
  {
   "cell_type": "code",
   "execution_count": null,
   "metadata": {},
   "outputs": [],
   "source": [
    "Below is an example of calling the API for a listing of neighborhoods in Seattle, WA: \n",
    "http://www.zillow.com/webservice/GetRegionChildren.htm?zws-id=<ZWSID>&state=wa&city=seattle&childtype=neighborhood"
   ]
  },
  {
   "cell_type": "code",
   "execution_count": null,
   "metadata": {},
   "outputs": [],
   "source": [
    "http://www.zillow.com/webservice/GetDeepSearchResults.htm?zws-id=<ZWSID>&address=2114+Bigelow+Ave&citystatezip=Seattle%2C+WA"
   ]
  },
  {
   "cell_type": "code",
   "execution_count": null,
   "metadata": {},
   "outputs": [],
   "source": [
    "url = 'http://www.zillow.com/webservice/GetDeepSearchResults.htm?zws-id=<ZWSID>&address=2114+Bigelow+Ave&citystatezip=Seattle%2C+WA'\n",
    "response = requests.get(url)\n",
    "\n",
    "print(response.text)"
   ]
  },
  {
   "cell_type": "code",
   "execution_count": 20,
   "metadata": {},
   "outputs": [],
   "source": [
    "def deephouseinfo(number, street, streetO, city, state):\n",
    "    url = 'http://www.zillow.com/webservice/GetDeepSearchResults.htm?zws-id=X1-ZWz18mobi4mvij_2doog&address=%s+%s+%s&citystatezip=%s+%s'% (number, street, streetO, city, state)\n",
    "    response = requests.get(url)\n",
    "    data = response.text\n",
    "    return data\n",
    "    \n",
    "\n"
   ]
  },
  {
   "cell_type": "code",
   "execution_count": 21,
   "metadata": {},
   "outputs": [
    {
     "name": "stdout",
     "output_type": "stream",
     "text": [
      "Enter a house number111\n",
      "Enter the street nameben\n",
      "Enter the second part of the streetdrive\n",
      "Enter citysyracuse\n",
      "Enter state code eg NY, NCny\n"
     ]
    },
    {
     "data": {
      "text/plain": [
       "'<?xml version=\"1.0\" encoding=\"utf-8\"?><SearchResults:searchresults xsi:schemaLocation=\"http://www.zillow.com/static/xsd/SearchResults.xsd https://www.zillowstatic.com/vstatic/b20c067/static/xsd/SearchResults.xsd\" xmlns:xsi=\"http://www.w3.org/2001/XMLSchema-instance\" xmlns:SearchResults=\"http://www.zillow.com/static/xsd/SearchResults.xsd\"><request><address>111 ben drive</address><citystatezip>syracuse ny</citystatezip></request><message><text>Error: no exact match found for input address</text><code>508</code></message></SearchResults:searchresults><!-- H:030  T:142ms  S:150  R:Mon Apr 30 13:48:07 PDT 2018  B:5.0.53337.1-hotfix_2018-04-26.4eb330c~delivery_ready.adf8d09 -->'"
      ]
     },
     "execution_count": 21,
     "metadata": {},
     "output_type": "execute_result"
    }
   ],
   "source": [
    "number = input(\"Enter a house number\")\n",
    "street = input(\"Enter the street name\")\n",
    "streetO = input(\"Enter the second part of the street\")\n",
    "city = input(\"Enter city\")\n",
    "state = input(\"Enter state code eg NY, NC\")\n",
    "\n",
    "deephouseinfo(number, street, streetO, city, state)"
   ]
  },
  {
   "cell_type": "code",
   "execution_count": 22,
   "metadata": {},
   "outputs": [
    {
     "name": "stdout",
     "output_type": "stream",
     "text": [
      "Enter a house number109\n",
      "Enter the street namelevgar\n",
      "Enter the second part of the streetstreet\n",
      "Enter citypiscataway\n",
      "Enter state code eg NY, NCnj\n"
     ]
    },
    {
     "data": {
      "text/plain": [
       "'<?xml version=\"1.0\" encoding=\"utf-8\"?><SearchResults:searchresults xsi:schemaLocation=\"http://www.zillow.com/static/xsd/SearchResults.xsd https://www.zillowstatic.com/vstatic/b20c067/static/xsd/SearchResults.xsd\" xmlns:xsi=\"http://www.w3.org/2001/XMLSchema-instance\" xmlns:SearchResults=\"http://www.zillow.com/static/xsd/SearchResults.xsd\"><request><address>109 levgar street</address><citystatezip>piscataway nj</citystatezip></request><message><text>Request successfully processed</text><code>0</code></message><response><results><result><zpid>39141939</zpid><links><homedetails>https://www.zillow.com/homedetails/109-Levgar-St-Piscataway-NJ-08854/39141939_zpid/</homedetails><graphsanddata>http://www.zillow.com/homedetails/109-Levgar-St-Piscataway-NJ-08854/39141939_zpid/#charts-and-data</graphsanddata><mapthishome>http://www.zillow.com/homes/39141939_zpid/</mapthishome><comparables>http://www.zillow.com/homes/comps/39141939_zpid/</comparables></links><address><street>109 Levgar St</street><zipcode>08854</zipcode><city>PISCATAWAY</city><state>NJ</state><latitude>40.582766</latitude><longitude>-74.469988</longitude></address><FIPScounty>34023</FIPScounty><useCode>SingleFamily</useCode><taxAssessmentYear>2017</taxAssessmentYear><taxAssessment>253100.0</taxAssessment><yearBuilt>1925</yearBuilt><lotSizeSqFt>9375</lotSizeSqFt><finishedSqFt>1853</finishedSqFt><lastSoldDate>12/19/2003</lastSoldDate><lastSoldPrice currency=\"USD\">195000</lastSoldPrice><zestimate><amount currency=\"USD\">306285</amount><last-updated>04/29/2018</last-updated><oneWeekChange deprecated=\"true\"></oneWeekChange><valueChange duration=\"30\" currency=\"USD\">2758</valueChange><valuationRange><low currency=\"USD\">284845</low><high currency=\"USD\">324662</high></valuationRange><percentile>0</percentile></zestimate><localRealEstate><region name=\"Piscataway\" id=\"398893\" type=\"city\"><zindexValue>285,200</zindexValue><links><overview>http://www.zillow.com/local-info/NJ-Piscataway/r_398893/</overview><forSaleByOwner>http://www.zillow.com/piscataway-nj/fsbo/</forSaleByOwner><forSale>http://www.zillow.com/piscataway-nj/</forSale></links></region></localRealEstate></result></results></response></SearchResults:searchresults><!-- H:027  T:89ms  S:1137  R:Mon Apr 30 13:50:03 PDT 2018  B:5.0.53337.1-hotfix_2018-04-26.4eb330c~delivery_ready.adf8d09 -->'"
      ]
     },
     "execution_count": 22,
     "metadata": {},
     "output_type": "execute_result"
    }
   ],
   "source": [
    "number = input(\"Enter a house number\")\n",
    "street = input(\"Enter the street name\")\n",
    "streetO = input(\"Enter the second part of the street\")\n",
    "city = input(\"Enter city\")\n",
    "state = input(\"Enter state code eg NY, NC\")\n",
    "\n",
    "deephouseinfo(number, street, streetO, city, state)"
   ]
  },
  {
   "cell_type": "code",
   "execution_count": null,
   "metadata": {},
   "outputs": [],
   "source": []
  }
 ],
 "metadata": {
  "kernelspec": {
   "display_name": "Python 3",
   "language": "python",
   "name": "python3"
  },
  "language_info": {
   "codemirror_mode": {
    "name": "ipython",
    "version": 3
   },
   "file_extension": ".py",
   "mimetype": "text/x-python",
   "name": "python",
   "nbconvert_exporter": "python",
   "pygments_lexer": "ipython3",
   "version": "3.6.3"
  }
 },
 "nbformat": 4,
 "nbformat_minor": 2
}
