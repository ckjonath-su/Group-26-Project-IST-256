{
 "cells": [
  {
   "cell_type": "code",
   "execution_count": 9,
   "metadata": {},
   "outputs": [],
   "source": [
    "import pandas as pd\n",
    "import numpy as np\n",
    "import zillow\n",
    "import xmltodict\n",
    "from pprint import pprint\n",
    "\n",
    "import requests\n",
    "import json \n",
    "%matplotlib inline \n",
    "\n",
    "import matplotlib\n",
    "import matplotlib.pyplot as plt\n",
    "import plotly \n",
    "import plotly.plotly as py     \n",
    "import plotly.graph_objs as go  \n",
    "import cufflinks as cf\n",
    "import pandas as pd\n",
    "import folium\n",
    "import warnings\n",
    "#matplotlib.rcParams['figure.figsize'] = (20.0, 10.0) # larger figure size\n",
    "warnings.filterwarnings('ignore')\n"
   ]
  },
  {
   "cell_type": "code",
   "execution_count": null,
   "metadata": {},
   "outputs": [],
   "source": [
    "address = datastore['SearchResults:searchresults']['street']\n",
    "    bedrooms = datastore['SearchResults:searchresults']['bedrooms']\n",
    "    bathrooms = datastore['SearchResults:searchresults']['bathrooms']\n",
    "    size = datastore['SearchResults:searchresults']['finishedSqft']\n",
    "\n",
    " bedrooms = datastore['SearchResults:searchresults']['request']['bedrooms']\n",
    "    bathrooms = datastore['SearchResults:searchresults']['request']['bathrooms']\n",
    "    size = datastore['SearchResults:searchresults']['request']['finishedSqft']\n",
    "    year = datastore['SearchResults:searchresults']['request']['yearBuilt']\n",
    "    lowprice = datastore['SearchResults:searchresults']['request']['low']['#text'"
   ]
  },
  {
   "cell_type": "code",
   "execution_count": 9,
   "metadata": {
    "scrolled": true
   },
   "outputs": [
    {
     "data": {
      "text/plain": [
       "'2114 Bigelow Ave'"
      ]
     },
     "execution_count": 9,
     "metadata": {},
     "output_type": "execute_result"
    }
   ],
   "source": [
    "import requests, json, xmltodict, requests\n",
    "def housinginfo(city, state):\n",
    "    url = 'http://www.zillow.com/webservice/GetRegionChildren.htm?zws-id=X1-ZWz18mobi4mvij_2doog&state=%s&city=%s&childtype=neighborhood' % (state, city)\n",
    "    response = requests.get(url)\n",
    "    data = response.text\n",
    "    \n",
    "    jsonString = json.dumps(xmltodict.parse(data), indent=4)\n",
    "\n",
    "    with open(\"output.json\") as f:\n",
    "        datastore = json.load(f)\n",
    "        \n",
    "    address = datastore['SearchResults:searchresults']['request']['address']\n",
    "    \n",
    "    return(address)\n",
    "\n",
    "city = 'omaha'\n",
    "state = 'ne'\n",
    "housinginfo(city, state)"
   ]
  },
  {
   "cell_type": "code",
   "execution_count": 11,
   "metadata": {
    "scrolled": true
   },
   "outputs": [],
   "source": [
    "#Below is an example of calling the API for a listing of neighborhoods in Seattle, WA: \n",
    "#http://www.zillow.com/webservice/GetRegionChildren.htm?zws-id=<ZWSID>&state=wa&city=seattle&childtype=neighborhood\n",
    "#http://www.zillow.com/webservice/GetRegionChildren.htm?zws-id=X1-ZWz18mobi4mvij_2doog&state=%s&city=%s&childtype=neighborhood\n",
    "\n",
    "#with open(\"output.json\") as f:\n",
    "    #datastore = json.load(f)"
   ]
  },
  {
   "cell_type": "code",
   "execution_count": null,
   "metadata": {},
   "outputs": [],
   "source": [
    "http://www.zillow.com/webservice/GetDeepSearchResults.htm?zws-id=<ZWSID>&address=2114+Bigelow+Ave&citystatezip=Seattle%2C+WA\n"
   ]
  },
  {
   "cell_type": "code",
   "execution_count": 7,
   "metadata": {
    "scrolled": true
   },
   "outputs": [
    {
     "ename": "TypeError",
     "evalue": "string indices must be integers",
     "output_type": "error",
     "traceback": [
      "\u001b[1;31m---------------------------------------------------------------------------\u001b[0m",
      "\u001b[1;31mTypeError\u001b[0m                                 Traceback (most recent call last)",
      "\u001b[1;32m<ipython-input-7-57d9b75e60b5>\u001b[0m in \u001b[0;36m<module>\u001b[1;34m()\u001b[0m\n\u001b[0;32m     11\u001b[0m \u001b[1;33m\u001b[0m\u001b[0m\n\u001b[0;32m     12\u001b[0m \u001b[1;31m#Use the new datastore datastructure\u001b[0m\u001b[1;33m\u001b[0m\u001b[1;33m\u001b[0m\u001b[0m\n\u001b[1;32m---> 13\u001b[1;33m \u001b[0mprint\u001b[0m \u001b[1;33m(\u001b[0m\u001b[0mjsonString\u001b[0m\u001b[1;33m[\u001b[0m\u001b[1;34m\"SearchResults:searchresults\"\u001b[0m\u001b[1;33m]\u001b[0m\u001b[1;33m[\u001b[0m\u001b[1;34m\"request\"\u001b[0m\u001b[1;33m]\u001b[0m\u001b[1;33m[\u001b[0m\u001b[1;34m\"address\"\u001b[0m\u001b[1;33m]\u001b[0m\u001b[1;33m)\u001b[0m\u001b[1;33m\u001b[0m\u001b[0m\n\u001b[0m",
      "\u001b[1;31mTypeError\u001b[0m: string indices must be integers"
     ]
    }
   ],
   "source": [
    "import requests\n",
    "import json\n",
    "\n",
    "url = 'http://www.zillow.com/webservice/GetDeepSearchResults.htm?zws-id=X1-ZWz18mobi4mvij_2doog&address=2114+Bigelow+Ave&citystatezip=Seattle%2C+WA'\n",
    "response = requests.get(url)\n",
    "\n",
    "data = response.text\n",
    "     \n",
    "jsonString = json.dumps(xmltodict.parse(data), indent=4)\n",
    "\n",
    "\n",
    "#Use the new datastore datastructure\n",
    "print (jsonString[\"SearchResults:searchresults\"][\"request\"][\"address\"])"
   ]
  },
  {
   "cell_type": "code",
   "execution_count": 7,
   "metadata": {},
   "outputs": [],
   "source": [
    "def deephouseinfo(number, street, city, state):\n",
    "    url = 'http://www.zillow.com/webservice/GetDeepSearchResults.htm?zws-id=X1-ZWz18mobi4mvij_2doog&address=%s+%s&citystatezip=%s+%s'% (number, street, city, state)\n",
    "    response = requests.get(url)\n",
    "    data = response.text\n",
    "     \n",
    "    jsonString = json.dumps(xmltodict.parse(data), indent=4)\n",
    "\n",
    "    with open(\"output.json\") as f:\n",
    "        datastore = json.load(f)\n",
    "\n",
    "    return(datastore)\n",
    "    \n"
   ]
  },
  {
   "cell_type": "code",
   "execution_count": 30,
   "metadata": {},
   "outputs": [
    {
     "name": "stdout",
     "output_type": "stream",
     "text": [
      "THE HOME FINDER\n",
      "___________________________________________________________________________________________________________________\n",
      "Are you interested in acquiring a home? (Y/N): Y\n",
      "Okay, Let's start by finding you houses. \n",
      "Please enter a state you would like to live in: Arizona\n",
      "Please enter a city you would like to live in: edf\n"
     ]
    }
   ],
   "source": [
    "print('THE HOME FINDER')\n",
    "print('___________________________________________________________________________________________________________________')\n",
    "\n",
    "question = input(\"Are you interested in acquiring a home? (Y/N): \").upper\n",
    "\n",
    "if question != 'Y' or 'N':\n",
    "    print(\"Please choose either (Y/N).\")\n",
    "    break\n",
    "\n",
    "elif question == 'N':\n",
    "    print(\"Thank you for using the home finder\")\n",
    "    break\n",
    "    \n",
    "elif question == 'Y':\n",
    "    print(\"Okay, Let's start by finding you possible houses in a particlar area. \")\n",
    "    state = input(\"Please enter a state you would like to live in: \")\n",
    "    city = input(\"Please enter a city you would like to live in: \")\n",
    "    \n",
    "    housinginfo(city, state)\n",
    "    \n",
    "    print()\n",
    "    \n",
    "    \n",
    "    \n",
    "        \n",
    "     ['RegionChildren:regionchildren']['@xsi:schemaLocation']['response']['region']['latitude']\n",
    "with open(\"test.json\", 'w') as f:\n",
    "    f.write(main)\n",
    "with open(\"test.json\") as f:\n",
    "    datastore = json.load(f)\n",
    "print(datastore['RegionChildren:regionchildren'][0])\n",
    "    "
   ]
  },
  {
   "cell_type": "code",
   "execution_count": 13,
   "metadata": {},
   "outputs": [
    {
     "name": "stdout",
     "output_type": "stream",
     "text": [
      "1203\n"
     ]
    }
   ],
   "source": [
    "def originalhousinginfo(city, state):\n",
    "    url = 'http://www.zillow.com/webservice/GetRegionChildren.htm?zws-id=X1-ZWz18mobi4mvij_2doog&state=%s&city=%s&childtype=neighborhood' % (state, city)\n",
    "    response = requests.get(url)\n",
    "    datas = response.text\n",
    "     \n",
    "    jsonString = json.dumps(xmltodict.parse(datas), indent=4)\n",
    "    \n",
    "    with open(\"output1.json\", 'w') as f:\n",
    "        print (f.write(jsonString))\n",
    "    \n",
    "    \n",
    "originalhousinginfo('mebane', 'nc')"
   ]
  },
  {
   "cell_type": "code",
   "execution_count": 3,
   "metadata": {},
   "outputs": [
    {
     "name": "stdout",
     "output_type": "stream",
     "text": [
      "{\"RegionChildren:regionchildren\": {\"@xsi:schemaLocation\": \"http://www.zillow.com/static/xsd/RegionChildren.xsd https://www.zillowstatic.com/vstatic/b20c067/static/xsd/RegionChildren.xsd\", \"@xmlns:xsi\": \"http://www.w3.org/2001/XMLSchema-instance\", \"@xmlns:RegionChildren\": \"http://www.zillow.com/static/xsd/RegionChildren.xsd\", \"request\": {\"state\": \"syracuse\", \"city\": \"ny\", \"childtype\": \"neighborhood\"}, \"message\": {\"text\": \"Request successfully processed\", \"code\": \"0\"}, \"response\": {\"region\": {\"id\": \"7353\", \"latitude\": \"43.035234\", \"longitude\": \"-76.139279\"}, \"subregiontype\": \"neighborhood\", \"list\": {\"count\": \"26\", \"region\": [{\"id\": \"275929\", \"name\": \"Washington Square\", \"zindex\": {\"@currency\": \"USD\", \"#text\": \"52500\"}, \"url\": \"http://www.zillow.com/local-info/NY-Syracuse/Washington-Square/r_275929/\", \"latitude\": \"43.069642\", \"longitude\": \"-76.155409\"}, {\"id\": \"194503\", \"name\": \"Eastwood\", \"zindex\": {\"@currency\": \"USD\", \"#text\": \"81400\"}, \"url\": \"http://www.zillow.com/local-info/NY-Syracuse/Eastwood/r_194503/\", \"latitude\": \"43.064978\", \"longitude\": \"-76.104384\"}, {\"id\": \"273038\", \"name\": \"Brighton\", \"zindex\": {\"@currency\": \"USD\", \"#text\": \"53600\"}, \"url\": \"http://www.zillow.com/local-info/NY-Syracuse/Brighton/r_273038/\", \"latitude\": \"43.02373\", \"longitude\": \"-76.151389\"}, {\"id\": \"274645\", \"name\": \"Near Northeast\", \"zindex\": {\"@currency\": \"USD\", \"#text\": \"57700\"}, \"url\": \"http://www.zillow.com/local-info/NY-Syracuse/Near-Northeast/r_274645/\", \"latitude\": \"43.057465\", \"longitude\": \"-76.140714\"}, {\"id\": \"275818\", \"name\": \"University Hill\", \"url\": \"http://www.zillow.com/local-info/NY-Syracuse/University-Hill/r_275818/\", \"latitude\": \"43.04\", \"longitude\": \"-76.135699\"}, {\"id\": \"274792\", \"name\": \"Northside\", \"zindex\": {\"@currency\": \"USD\", \"#text\": \"75800\"}, \"url\": \"http://www.zillow.com/local-info/NY-Syracuse/Northside/r_274792/\", \"latitude\": \"43.073877\", \"longitude\": \"-76.140239\"}, {\"id\": \"276596\", \"name\": \"Strathmore\", \"zindex\": {\"@currency\": \"USD\", \"#text\": \"101300\"}, \"url\": \"http://www.zillow.com/local-info/NY-Syracuse/Strathmore/r_276596/\", \"latitude\": \"43.02611\", \"longitude\": \"-76.181278\"}, {\"id\": \"273703\", \"name\": \"Far West-Side\", \"zindex\": {\"@currency\": \"USD\", \"#text\": \"72300\"}, \"url\": \"http://www.zillow.com/local-info/NY-Syracuse/Far-West--Side/r_273703/\", \"latitude\": \"43.050026\", \"longitude\": \"-76.189112\"}, {\"id\": \"274648\", \"name\": \"Near Westside\", \"zindex\": {\"@currency\": \"USD\", \"#text\": \"56800\"}, \"url\": \"http://www.zillow.com/local-info/NY-Syracuse/Near-Westside/r_274648/\", \"latitude\": \"43.042695\", \"longitude\": \"-76.169731\"}, {\"id\": \"274757\", \"name\": \"North Valley\", \"zindex\": {\"@currency\": \"USD\", \"#text\": \"53900\"}, \"url\": \"http://www.zillow.com/local-info/NY-Syracuse/North-Valley/r_274757/\", \"latitude\": \"43.00688\", \"longitude\": \"-76.150083\"}, {\"id\": \"275463\", \"name\": \"South Valley\", \"zindex\": {\"@currency\": \"USD\", \"#text\": \"81700\"}, \"url\": \"http://www.zillow.com/local-info/NY-Syracuse/South-Valley/r_275463/\", \"latitude\": \"42.994959\", \"longitude\": \"-76.145452\"}, {\"id\": \"274481\", \"name\": \"Meadowbrook\", \"zindex\": {\"@currency\": \"USD\", \"#text\": \"143900\"}, \"url\": \"http://www.zillow.com/local-info/NY-Syracuse/Meadowbrook/r_274481/\", \"latitude\": \"43.039987\", \"longitude\": \"-76.094521\"}, {\"id\": \"275495\", \"name\": \"Southwest\", \"url\": \"http://www.zillow.com/local-info/NY-Syracuse/Southwest/r_275495/\", \"latitude\": \"43.036025\", \"longitude\": \"-76.153594\"}, {\"id\": \"275808\", \"name\": \"University\", \"zindex\": {\"@currency\": \"USD\", \"#text\": \"132000\"}, \"url\": \"http://www.zillow.com/local-info/NY-Syracuse/University/r_275808/\", \"latitude\": \"43.029475\", \"longitude\": \"-76.12043\"}, {\"id\": \"274929\", \"name\": \"Outer Comstock\", \"zindex\": {\"@currency\": \"USD\", \"#text\": \"84200\"}, \"url\": \"http://www.zillow.com/local-info/NY-Syracuse/Outer-Comstock/r_274929/\", \"latitude\": \"43.016532\", \"longitude\": \"-76.132529\"}, {\"id\": \"275276\", \"name\": \"Salt Springs\", \"zindex\": {\"@currency\": \"USD\", \"#text\": \"78600\"}, \"url\": \"http://www.zillow.com/local-info/NY-Syracuse/Salt-Springs/r_275276/\", \"latitude\": \"43.05227\", \"longitude\": \"-76.099226\"}, {\"id\": \"276644\", \"name\": \"Wescott\", \"zindex\": {\"@currency\": \"USD\", \"#text\": \"125100\"}, \"url\": \"http://www.zillow.com/local-info/NY-Syracuse/Wescott/r_276644/\", \"latitude\": \"43.04109\", \"longitude\": \"-76.121704\"}, {\"id\": \"276034\", \"name\": \"Westside\", \"url\": \"http://www.zillow.com/local-info/NY-Syracuse/Westside/r_276034/\", \"latitude\": \"43.052524\", \"longitude\": \"-76.171213\"}, {\"id\": \"275390\", \"name\": \"Skytop-South Campus\", \"url\": \"http://www.zillow.com/local-info/NY-Syracuse/Skytop--South-Campus/r_275390/\", \"latitude\": \"43.018361\", \"longitude\": \"-76.117339\"}, {\"id\": \"274643\", \"name\": \"Near Eastside\", \"url\": \"http://www.zillow.com/local-info/NY-Syracuse/Near-Eastside/r_274643/\", \"latitude\": \"43.049515\", \"longitude\": \"-76.129859\"}, {\"id\": \"275385\", \"name\": \"Skunk City\", \"url\": \"http://www.zillow.com/local-info/NY-Syracuse/Skunk-City/r_275385/\", \"latitude\": \"43.03746\", \"longitude\": \"-76.180561\"}, {\"id\": \"274314\", \"name\": \"Lincoln Park\", \"url\": \"http://www.zillow.com/local-info/NY-Syracuse/Lincoln-Park/r_274314/\", \"latitude\": \"43.058604\", \"longitude\": \"-76.127179\"}, {\"id\": \"275325\", \"name\": \"Sedgwick\", \"zindex\": {\"@currency\": \"USD\", \"#text\": \"164000\"}, \"url\": \"http://www.zillow.com/local-info/NY-Syracuse/Sedgwick/r_275325/\", \"latitude\": \"43.06705\", \"longitude\": \"-76.128719\"}, {\"id\": \"276322\", \"name\": \"Elmwood\", \"zindex\": {\"@currency\": \"USD\", \"#text\": \"64300\"}, \"url\": \"http://www.zillow.com/local-info/NY-Syracuse/Elmwood/r_276322/\", \"latitude\": \"43.014793\", \"longitude\": \"-76.162761\"}, {\"id\": \"273487\", \"name\": \"Downtown\", \"url\": \"http://www.zillow.com/local-info/NY-Syracuse/Downtown/r_273487/\", \"latitude\": \"43.048379\", \"longitude\": \"-76.150482\"}, {\"id\": \"274242\", \"name\": \"Lakefront\", \"url\": \"http://www.zillow.com/local-info/NY-Syracuse/Lakefront/r_274242/\", \"latitude\": \"43.069746\", \"longitude\": \"-76.175416\"}]}}}}\n"
     ]
    }
   ],
   "source": [
    "import xmltodict, json, requests\n",
    "state = 'syracuse'\n",
    "city = 'ny'\n",
    "\n",
    "url = 'http://www.zillow.com/webservice/GetRegionChildren.htm?zws-id=X1-ZWz18mobi4mvij_2doog&state=%s&city=%s&childtype=neighborhood' % (state, city)\n",
    "response = requests.get(url)\n",
    "datas = response.text\n",
    "o = xmltodict.parse(datas)\n",
    "main = json.dumps(o)\n",
    "print (main)\n"
   ]
  },
  {
   "cell_type": "code",
   "execution_count": 18,
   "metadata": {},
   "outputs": [
    {
     "name": "stdout",
     "output_type": "stream",
     "text": [
      "\n",
      "JSON output(output.json):\n"
     ]
    },
    {
     "data": {
      "text/plain": [
       "'{\\n    \"SearchResults:searchresults\": {\\n        \"@xsi:schemaLocation\": \"http://www.zillow.com/static/xsd/SearchResults.xsd https://www.zillowstatic.com/vstatic/b20c067/static/xsd/SearchResults.xsd\",\\n        \"@xmlns:xsi\": \"http://www.w3.org/2001/XMLSchema-instance\",\\n        \"@xmlns:SearchResults\": \"http://www.zillow.com/static/xsd/SearchResults.xsd\",\\n        \"request\": {\\n            \"address\": \"10780 gooseneck bend road\",\\n            \"citystatezip\": \"platte city mo\"\\n        },\\n        \"message\": {\\n            \"text\": \"Request successfully processed\",\\n            \"code\": \"0\"\\n        },\\n        \"response\": {\\n            \"results\": {\\n                \"result\": {\\n                    \"zpid\": \"2484253\",\\n                    \"links\": {\\n                        \"homedetails\": \"https://www.zillow.com/homedetails/10780-Gooseneck-Bend-Rd-Platte-City-MO-64079/2484253_zpid/\",\\n                        \"graphsanddata\": \"http://www.zillow.com/homedetails/10780-Gooseneck-Bend-Rd-Platte-City-MO-64079/2484253_zpid/#charts-and-data\",\\n                        \"mapthishome\": \"http://www.zillow.com/homes/2484253_zpid/\",\\n                        \"comparables\": \"http://www.zillow.com/homes/comps/2484253_zpid/\"\\n                    },\\n                    \"address\": {\\n                        \"street\": \"10780 Gooseneck Bend Rd\",\\n                        \"zipcode\": \"64079\",\\n                        \"city\": \"PLATTE CITY\",\\n                        \"state\": \"MO\",\\n                        \"latitude\": \"39.400595\",\\n                        \"longitude\": \"-94.699421\"\\n                    },\\n                    \"FIPScounty\": \"29165\",\\n                    \"useCode\": \"SingleFamily\",\\n                    \"taxAssessmentYear\": \"2017\",\\n                    \"taxAssessment\": \"316418.0\",\\n                    \"yearBuilt\": \"2001\",\\n                    \"lotSizeSqFt\": \"4850972\",\\n                    \"finishedSqFt\": \"3171\",\\n                    \"bathrooms\": \"3.0\",\\n                    \"zestimate\": {\\n                        \"amount\": {\\n                            \"@currency\": \"USD\",\\n                            \"#text\": \"528700\"\\n                        },\\n                        \"last-updated\": \"05/06/2018\",\\n                        \"oneWeekChange\": {\\n                            \"@deprecated\": \"true\"\\n                        },\\n                        \"valueChange\": {\\n                            \"@duration\": \"30\",\\n                            \"@currency\": \"USD\",\\n                            \"#text\": \"15037\"\\n                        },\\n                        \"valuationRange\": {\\n                            \"low\": {\\n                                \"@currency\": \"USD\",\\n                                \"#text\": \"475830\"\\n                            },\\n                            \"high\": {\\n                                \"@currency\": \"USD\",\\n                                \"#text\": \"576283\"\\n                            }\\n                        },\\n                        \"percentile\": \"0\"\\n                    },\\n                    \"localRealEstate\": null\\n                }\\n            }\\n        }\\n    }\\n}'"
      ]
     },
     "execution_count": 18,
     "metadata": {},
     "output_type": "execute_result"
    }
   ],
   "source": [
    "def originaldeephouseinfo(number, street, city, state):\n",
    "    url = 'http://www.zillow.com/webservice/GetDeepSearchResults.htm?zws-id=X1-ZWz18mobi4mvij_2doog&address=%s+%s&citystatezip=%s+%s'% (number, street, city, state)\n",
    "    response = requests.get(url)\n",
    "    data = response.text\n",
    "    \n",
    "    jsonString = json.dumps(xmltodict.parse(data), indent=4)\n",
    "\n",
    "    print(\"\\nJSON output(output.json):\")\n",
    "    return (jsonString)\n",
    "\n",
    "\n",
    "\n",
    "\n",
    "\n",
    "\n",
    "\n",
    "number = '10780'\n",
    "street = 'gooseneck bend road'\n",
    "city = 'platte city'\n",
    "state = 'mo'\n",
    "originaldeephouseinfo(number, street, city, state)\n",
    "     "
   ]
  },
  {
   "cell_type": "code",
   "execution_count": 16,
   "metadata": {},
   "outputs": [
    {
     "data": {
      "text/plain": [
       "'{\"SearchResults:searchresults\": {\"@xsi:schemaLocation\": \"http://www.zillow.com/static/xsd/SearchResults.xsd https://www.zillowstatic.com/vstatic/b20c067/static/xsd/SearchResults.xsd\", \"@xmlns:xsi\": \"http://www.w3.org/2001/XMLSchema-instance\", \"@xmlns:SearchResults\": \"http://www.zillow.com/static/xsd/SearchResults.xsd\", \"request\": {\"address\": \"10780 gooseneck bend road\", \"citystatezip\": \"platte city mo\"}, \"message\": {\"text\": \"Request successfully processed\", \"code\": \"0\"}, \"response\": {\"results\": {\"result\": {\"zpid\": \"2484253\", \"links\": {\"homedetails\": \"https://www.zillow.com/homedetails/10780-Gooseneck-Bend-Rd-Platte-City-MO-64079/2484253_zpid/\", \"graphsanddata\": \"http://www.zillow.com/homedetails/10780-Gooseneck-Bend-Rd-Platte-City-MO-64079/2484253_zpid/#charts-and-data\", \"mapthishome\": \"http://www.zillow.com/homes/2484253_zpid/\", \"comparables\": \"http://www.zillow.com/homes/comps/2484253_zpid/\"}, \"address\": {\"street\": \"10780 Gooseneck Bend Rd\", \"zipcode\": \"64079\", \"city\": \"PLATTE CITY\", \"state\": \"MO\", \"latitude\": \"39.400595\", \"longitude\": \"-94.699421\"}, \"FIPScounty\": \"29165\", \"useCode\": \"SingleFamily\", \"taxAssessmentYear\": \"2017\", \"taxAssessment\": \"316418.0\", \"yearBuilt\": \"2001\", \"lotSizeSqFt\": \"4850972\", \"finishedSqFt\": \"3171\", \"bathrooms\": \"3.0\", \"zestimate\": {\"amount\": {\"@currency\": \"USD\", \"#text\": \"526190\"}, \"last-updated\": \"05/07/2018\", \"oneWeekChange\": {\"@deprecated\": \"true\"}, \"valueChange\": {\"@duration\": \"30\", \"@currency\": \"USD\", \"#text\": \"11902\"}, \"valuationRange\": {\"low\": {\"@currency\": \"USD\", \"#text\": \"494619\"}, \"high\": {\"@currency\": \"USD\", \"#text\": \"584071\"}}, \"percentile\": \"0\"}, \"localRealEstate\": null}}}}}'"
      ]
     },
     "execution_count": 16,
     "metadata": {},
     "output_type": "execute_result"
    }
   ],
   "source": [
    "number = '10780'\n",
    "street = 'gooseneck bend road'\n",
    "city = 'platte city'\n",
    "state = 'mo'\n",
    "\n",
    "url = 'http://www.zillow.com/webservice/GetDeepSearchResults.htm?zws-id=X1-ZWz18mobi4mvij_2doog&address=%s+%s&citystatezip=%s+%s'% (number, street, city, state)\n",
    "response = requests.get(url)\n",
    "data = response.text\n",
    "d = xmltodict.parse(data)\n",
    "json.dumps(d)"
   ]
  },
  {
   "cell_type": "code",
   "execution_count": 10,
   "metadata": {},
   "outputs": [
    {
     "name": "stdout",
     "output_type": "stream",
     "text": [
      "Help on method_descriptor:\n",
      "\n",
      "format(...)\n",
      "    S.format(*args, **kwargs) -> str\n",
      "    \n",
      "    Return a formatted version of S, using substitutions from args and kwargs.\n",
      "    The substitutions are identified by braces ('{' and '}').\n",
      "\n"
     ]
    }
   ],
   "source": [
    "dir(str)\n",
    "help(str.format)"
   ]
  },
  {
   "cell_type": "code",
   "execution_count": null,
   "metadata": {},
   "outputs": [],
   "source": []
  }
 ],
 "metadata": {
  "kernelspec": {
   "display_name": "Python 3",
   "language": "python",
   "name": "python3"
  },
  "language_info": {
   "codemirror_mode": {
    "name": "ipython",
    "version": 3
   },
   "file_extension": ".py",
   "mimetype": "text/x-python",
   "name": "python",
   "nbconvert_exporter": "python",
   "pygments_lexer": "ipython3",
   "version": "3.6.3"
  }
 },
 "nbformat": 4,
 "nbformat_minor": 2
}
