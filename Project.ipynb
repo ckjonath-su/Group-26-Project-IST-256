{
 "cells": [
  {
   "cell_type": "code",
   "execution_count": 9,
   "metadata": {},
   "outputs": [],
   "source": [
    "import pandas as pd\n",
    "import numpy as np\n",
    "import zillow\n",
    "import xmltodict\n",
    "from pprint import pprint\n",
    "\n",
    "import requests\n",
    "import json \n",
    "%matplotlib inline \n",
    "\n",
    "import matplotlib\n",
    "import matplotlib.pyplot as plt\n",
    "import plotly \n",
    "import plotly.plotly as py     \n",
    "import plotly.graph_objs as go  \n",
    "import cufflinks as cf\n",
    "import pandas as pd\n",
    "import folium\n",
    "import warnings\n",
    "#matplotlib.rcParams['figure.figsize'] = (20.0, 10.0) # larger figure size\n",
    "warnings.filterwarnings('ignore')\n"
   ]
  },
  {
   "cell_type": "code",
   "execution_count": null,
   "metadata": {},
   "outputs": [],
   "source": [
    "address = datastore['SearchResults:searchresults']['street']\n",
    "    bedrooms = datastore['SearchResults:searchresults']['bedrooms']\n",
    "    bathrooms = datastore['SearchResults:searchresults']['bathrooms']\n",
    "    size = datastore['SearchResults:searchresults']['finishedSqft']\n",
    "\n",
    " bedrooms = datastore['SearchResults:searchresults']['request']['bedrooms']\n",
    "    bathrooms = datastore['SearchResults:searchresults']['request']['bathrooms']\n",
    "    size = datastore['SearchResults:searchresults']['request']['finishedSqft']\n",
    "    year = datastore['SearchResults:searchresults']['request']['yearBuilt']\n",
    "    lowprice = datastore['SearchResults:searchresults']['request']['low']['#text'"
   ]
  },
  {
   "cell_type": "code",
   "execution_count": 7,
   "metadata": {
    "scrolled": true
   },
   "outputs": [
    {
     "data": {
      "text/plain": [
       "{'@xmlns:RegionChildren': 'http://www.zillow.com/static/xsd/RegionChildren.xsd',\n",
       " '@xmlns:xsi': 'http://www.w3.org/2001/XMLSchema-instance',\n",
       " '@xsi:schemaLocation': 'http://www.zillow.com/static/xsd/RegionChildren.xsd https://www.zillowstatic.com/vstatic/b20c067/static/xsd/RegionChildren.xsd',\n",
       " 'message': {'code': '0', 'text': 'Request successfully processed'},\n",
       " 'request': {'childtype': 'neighborhood', 'city': 'nc', 'state': 'mebane'},\n",
       " 'response': {'list': {'count': '1',\n",
       "   'region': {'id': '185045',\n",
       "    'latitude': '36.118497',\n",
       "    'longitude': '-79.301767',\n",
       "    'name': 'Woodlawn',\n",
       "    'url': 'http://www.zillow.com/local-info/NC-Mebane/Woodlawn/r_185045/'}},\n",
       "  'region': {'id': '29105', 'latitude': '36.13716', 'longitude': '-79.272444'},\n",
       "  'subregiontype': 'neighborhood'}}"
      ]
     },
     "execution_count": 7,
     "metadata": {},
     "output_type": "execute_result"
    }
   ],
   "source": [
    "import requests, json, xmltodict, requests\n",
    "def housinginfo(city, state):\n",
    "    url = 'http://www.zillow.com/webservice/GetRegionChildren.htm?zws-id=X1-ZWz18mobi4mvij_2doog&state=%s&city=%s&childtype=neighborhood' % (state, city)\n",
    "    response = requests.get(url)\n",
    "    data = response.text\n",
    "    \n",
    "    jsonString = json.dumps(xmltodict.parse(data), indent=4)\n",
    "\n",
    "    with open(\"output.json\") as f:\n",
    "        datastore = json.load(f)\n",
    "        \n",
    "    return(datastore['RegionChildren:regionchildren'])\n",
    "\n",
    "city = 'omaha'\n",
    "state = 'ne'\n",
    "housinginfo(city, state)"
   ]
  },
  {
   "cell_type": "code",
   "execution_count": 30,
   "metadata": {},
   "outputs": [
    {
     "name": "stdout",
     "output_type": "stream",
     "text": [
      "THE HOME FINDER\n",
      "___________________________________________________________________________________________________________________\n",
      "Are you interested in acquiring a home? (Y/N): Y\n",
      "Okay, Let's start by finding you houses. \n",
      "Please enter a state you would like to live in: Arizona\n",
      "Please enter a city you would like to live in: edf\n"
     ]
    }
   ],
   "source": [
    "def originalhousinginfoaddress(city, state):\n",
    "    url = 'http://www.zillow.com/webservice/GetRegionChildren.htm?zws-id=X1-ZWz18mobi4mvij_2doog&state=%s&city=%s&childtype=neighborhood' % (state, city)\n",
    "    response = requests.get(url)\n",
    "    datas = response.text\n",
    "\n",
    "    jsonString = json.dumps(xmltodict.parse(datas), indent=4)\n",
    "\n",
    "    with open(\"testingg.json\", 'w') as f:\n",
    "        f.write(jsonString)\n",
    "    \n",
    "    with open(\"testingg.json\") as d:\n",
    "        datastore = json.load(d)\n",
    "    \n",
    "    print(datastore['RegionChildren:regionchildren']['response']['list']['region'][0]['name'])\n",
    "    print(datastore['RegionChildren:regionchildren']['response']['list']['region'][1]['name'])\n",
    "    print(datastore['RegionChildren:regionchildren']['response']['list']['region'][2]['name'])\n",
    "    print(datastore['RegionChildren:regionchildren']['response']['list']['region'][3]['name'])\n",
    "    \n",
    "    \n",
    "    return print(datastore['RegionChildren:regionchildren']['response']['list']['region'][4]['name'])\n",
    "\n",
    "def originalhousinginfoaddressCostone(city, state):\n",
    "    url = 'http://www.zillow.com/webservice/GetRegionChildren.htm?zws-id=X1-ZWz18mobi4mvij_2doog&state=%s&city=%s&childtype=neighborhood' % (state, city)\n",
    "    response = requests.get(url)\n",
    "    datas = response.text\n",
    "\n",
    "    jsonString = json.dumps(xmltodict.parse(datas), indent=4)\n",
    "\n",
    "    with open(\"testingg.json\", 'w') as f:\n",
    "        f.write(jsonString)\n",
    "    \n",
    "    with open(\"testingg.json\") as d:\n",
    "        datastore = json.load(d)\n",
    "    \n",
    "    return(datastore['RegionChildren:regionchildren']['response']['list']['region'][0]['zindex']['#text'])\n",
    "\n",
    "def originalhousinginfoaddressCosttwo(city, state):\n",
    "    url = 'http://www.zillow.com/webservice/GetRegionChildren.htm?zws-id=X1-ZWz18mobi4mvij_2doog&state=%s&city=%s&childtype=neighborhood' % (state, city)\n",
    "    response = requests.get(url)\n",
    "    datas = response.text\n",
    "\n",
    "    jsonString = json.dumps(xmltodict.parse(datas), indent=4)\n",
    "\n",
    "    with open(\"testingg.json\", 'w') as f:\n",
    "        f.write(jsonString)\n",
    "    \n",
    "    with open(\"testingg.json\") as d:\n",
    "        datastore = json.load(d)\n",
    "    \n",
    "    return(datastore['RegionChildren:regionchildren']['response']['list']['region'][1]['zindex']['#text'])\n",
    "\n",
    "def originalhousinginfoaddressCostthree(city, state):\n",
    "    url = 'http://www.zillow.com/webservice/GetRegionChildren.htm?zws-id=X1-ZWz18mobi4mvij_2doog&state=%s&city=%s&childtype=neighborhood' % (state, city)\n",
    "    response = requests.get(url)\n",
    "    datas = response.text\n",
    "\n",
    "    jsonString = json.dumps(xmltodict.parse(datas), indent=4)\n",
    "\n",
    "    with open(\"testingg.json\", 'w') as f:\n",
    "        f.write(jsonString)\n",
    "    \n",
    "    with open(\"testingg.json\") as d:\n",
    "        datastore = json.load(d)\n",
    "    \n",
    "    return(datastore['RegionChildren:regionchildren']['response']['list']['region'][2]['zindex']['#text'])\n",
    "\n",
    "def originalhousinginfoaddressCostfour(city, state):\n",
    "    url = 'http://www.zillow.com/webservice/GetRegionChildren.htm?zws-id=X1-ZWz18mobi4mvij_2doog&state=%s&city=%s&childtype=neighborhood' % (state, city)\n",
    "    response = requests.get(url)\n",
    "    datas = response.text\n",
    "\n",
    "    jsonString = json.dumps(xmltodict.parse(datas), indent=4)\n",
    "\n",
    "    with open(\"testingg.json\", 'w') as f:\n",
    "        f.write(jsonString)\n",
    "    \n",
    "    with open(\"testingg.json\") as d:\n",
    "        datastore = json.load(d)\n",
    "    \n",
    "    return(datastore['RegionChildren:regionchildren']['response']['list']['region'][3]['zindex']['#text'])\n",
    "\n",
    "def originalhousinginfoaddressCostfive(city, state):\n",
    "    url = 'http://www.zillow.com/webservice/GetRegionChildren.htm?zws-id=X1-ZWz18mobi4mvij_2doog&state=%s&city=%s&childtype=neighborhood' % (state, city)\n",
    "    response = requests.get(url)\n",
    "    datas = response.text\n",
    "\n",
    "    jsonString = json.dumps(xmltodict.parse(datas), indent=4)\n",
    "\n",
    "    with open(\"testingg.json\", 'w') as f:\n",
    "        f.write(jsonString)\n",
    "    \n",
    "    with open(\"testingg.json\") as d:\n",
    "        datastore = json.load(d)\n",
    "   \n",
    "    return(datastore['RegionChildren:regionchildren']['response']['list']['region'][4]['zindex']['#text'])\n",
    "\n",
    "print('~~~~~~~~~~~~~~~~~~~~~~~~~~~~~~~~~~~~~~~~~~~~~~~~~~~~~~~~~~~~~~~~~~~~~~~~~~~~~~~~~~~~~~~~~~~~~~~~~~~~~~~~~~~~~~~~~~~')\n",
    "print('THE HOME FINDER')\n",
    "print('___________________________________________________________________________________________________________________')\n",
    "\n",
    "question = input(\"Are you interested in acquiring a home? (Y/N): \").upper\n",
    "\n",
    "if question != 'Y' or 'N':\n",
    "    print(\"Please choose either (Y/N).\")\n",
    "    break\n",
    "\n",
    "elif question == 'N':\n",
    "    print(\"Thank you for using the home finder\")\n",
    "    break\n",
    "    \n",
    "else:\n",
    "    print(\"Okay, Let's start by finding you neighbourhoods in a particlar area. \")\n",
    "    state = input(\"Please enter a state you would like to live in (Ex: NY,NC): \")\n",
    "    city = input(\"Please enter a city you would like to live in: \")\n",
    "    print(\"Here are the top 5 neigbourhoods in that city: \")\n",
    "    print('~~~~~~~~~~~~~~~~~~~~~~~~~~~~~~~~~~~~~~~~~~~~~~~~~~~~~~~~~~~~~~~~~~~~~~~~~~~~~~~~~~~~~~~~~~~~~~~~~~~~~')\n",
    "    \n",
    "    originalhousinginfoaddress(city, state)\n",
    "    \n",
    "    print('~~~~~~~~~~~~~~~~~~~~~~~~~~~~~~~~~~~~~~~~~~~~~~~~~~~~~~~~~~~~~~~~~~~~~~~~~~~~~~~~~~~~~~~~~~~~~~~~~~~~~')\n",
    "   \n",
    "    while True:\n",
    "        number = (int(input(\"Please choose either 1,2,3,4 or 5 to find out the cost to acquire a house in each neigbourhood: \")))\n",
    "        if number not in [1, 2, 3, 4, 5]:\n",
    "            print('Please choose from the list of numbers')\n",
    "        else:\n",
    "            if number == 1:\n",
    "                print('$', originalhousinginfoaddressCostone(city, state):)\n",
    "                break\n",
    "            elif number == 2:\n",
    "                print('$', originalhousinginfoaddressCosttwo(city, state):)\n",
    "                break\n",
    "            elif number == 3:\n",
    "                print('$', originalhousinginfoaddressCostthree(city, state):)\n",
    "                break\n",
    "            elif number == 4:\n",
    "                print('$', originalhousinginfoaddressCostfour(city, state):)\n",
    "                break\n",
    "            else:\n",
    "                print('$', originalhousinginfoaddressCostfive(city, state):)\n",
    "                break\n",
    "\n",
    "print('~~~~~~~~~~~~~~~~~~~~~~~~~~~~~~~~~~~~~~~~~~~~~~~~~~~~~~~~~~~~~~~~~~~~~~~~~~~~~~~~~~~~~~~~~~~~~~~~~~~~~')            \n",
    "\n",
    "while True:\n",
    "    sell = input(\"Do you wish to sell your home or acquire more information about the present house you live in? (Y/N): \").upper\n",
    "    if sell not in ['Y', 'N']:\n",
    "        print(\"Plese choose either Y/N!\")\n",
    "    elif sell == 'N':\n",
    "        print(\"Thank you for using the Home Finder\")\n",
    "        break\n",
    "    else:\n",
    "        break\n",
    "        print(\"You are now going to enter the address you wish to find.\")\n",
    "        street = input(\"Enter the address\")\n",
    "        city = input('Enter the city')\n",
    "        state = input('Enter the state')\n",
    "        \n",
    "        try:\n",
    "            \n",
    "\n",
    "        \n",
    "\n",
    "    \n",
    "    \n",
    "\n",
    "    "
   ]
  },
  {
   "cell_type": "code",
   "execution_count": 32,
   "metadata": {},
   "outputs": [
    {
     "name": "stdout",
     "output_type": "stream",
     "text": [
      "Upper West Side\n",
      "Upper East Side\n",
      "East New York\n",
      "Washington Heights\n",
      "Astoria\n"
     ]
    }
   ],
   "source": [
    "def originalhousinginfoaddress(city, state):\n",
    "    url = 'http://www.zillow.com/webservice/GetRegionChildren.htm?zws-id=X1-ZWz18mobi4mvij_2doog&state=%s&city=%s&childtype=neighborhood' % (state, city)\n",
    "    response = requests.get(url)\n",
    "    datas = response.text\n",
    "\n",
    "    jsonString = json.dumps(xmltodict.parse(datas), indent=4)\n",
    "\n",
    "    with open(\"testingg.json\", 'w') as f:\n",
    "        f.write(jsonString)\n",
    "    \n",
    "    with open(\"testingg.json\") as d:\n",
    "        datastore = json.load(d)\n",
    "    \n",
    "    print(datastore['RegionChildren:regionchildren']['response']['list']['region'][0]['name'])\n",
    "    print(datastore['RegionChildren:regionchildren']['response']['list']['region'][1]['name'])\n",
    "    print(datastore['RegionChildren:regionchildren']['response']['list']['region'][2]['name'])\n",
    "    print(datastore['RegionChildren:regionchildren']['response']['list']['region'][3]['name'])\n",
    "    \n",
    "    \n",
    "    return print(datastore['RegionChildren:regionchildren']['response']['list']['region'][4]['name'])\n",
    " \n",
    "    \n",
    "    \n",
    "originalhousinginfoaddress('brooklyn', 'ny')"
   ]
  },
  {
   "cell_type": "code",
   "execution_count": null,
   "metadata": {},
   "outputs": [],
   "source": [
    "def originalhousinginfoaddress(city, state):\n",
    "    url = 'http://www.zillow.com/webservice/GetRegionChildren.htm?zws-id=X1-ZWz18mobi4mvij_2doog&state=%s&city=%s&childtype=neighborhood' % (state, city)\n",
    "    response = requests.get(url)\n",
    "    datas = response.text\n",
    "\n",
    "    jsonString = json.dumps(xmltodict.parse(datas), indent=4)\n",
    "\n",
    "    with open(\"testingg.json\", 'w') as f:\n",
    "        f.write(jsonString)\n",
    "    \n",
    "    with open(\"testingg.json\") as d:\n",
    "        datastore = json.load(d)\n",
    "    \n",
    "    \n",
    "    \n",
    "    return print(datastore['RegionChildren:regionchildren']['response']['list']['region'][4]['name'])\n",
    " "
   ]
  },
  {
   "cell_type": "code",
   "execution_count": 39,
   "metadata": {},
   "outputs": [
    {
     "name": "stdout",
     "output_type": "stream",
     "text": [
      "1307100\n",
      "Upper East Side\n",
      "East New York\n",
      "Washington Heights\n"
     ]
    },
    {
     "data": {
      "text/plain": [
       "'Washington Heights'"
      ]
     },
     "execution_count": 39,
     "metadata": {},
     "output_type": "execute_result"
    }
   ],
   "source": [
    "\n",
    "def originalhousinginfoaddressCost(city, state):\n",
    "    url = 'http://www.zillow.com/webservice/GetRegionChildren.htm?zws-id=X1-ZWz18mobi4mvij_2doog&state=%s&city=%s&childtype=neighborhood' % (state, city)\n",
    "    response = requests.get(url)\n",
    "    datas = response.text\n",
    "\n",
    "    jsonString = json.dumps(xmltodict.parse(datas), indent=4)\n",
    "\n",
    "    with open(\"testingg.json\", 'w') as f:\n",
    "        f.write(jsonString)\n",
    "    \n",
    "    with open(\"testingg.json\") as d:\n",
    "        datastore = json.load(d)\n",
    "    \n",
    "    print(datastore['RegionChildren:regionchildren']['response']['list']['region'][0]['zindex']['#text'])\n",
    "    print(datastore['RegionChildren:regionchildren']['response']['list']['region'][1]['zindex']['#text'])\n",
    "    print(datastore['RegionChildren:regionchildren']['response']['list']['region'][2]['zindex']['#text'])\n",
    "    print(datastore['RegionChildren:regionchildren']['response']['list']['region'][3]['zindex']['#text'])\n",
    "   \n",
    "    return(datastore['RegionChildren:regionchildren']['response']['list']['region'][4]['zindex']['#text'])\n",
    " \n",
    "\n",
    "    \n",
    "    \n",
    "originalhousinginfoaddressOne('brooklyn', 'ny')"
   ]
  },
  {
   "cell_type": "code",
   "execution_count": 30,
   "metadata": {},
   "outputs": [
    {
     "name": "stdout",
     "output_type": "stream",
     "text": [
      "Upper East Side\n",
      "Williamsburg\n",
      "Bedford Stuyvesant\n",
      "Flatbush\n",
      "Crown Heights\n",
      "Jamaica\n",
      "Harlem\n",
      "Williamsbridge\n",
      "East Harlem\n",
      "Bushwick\n",
      "East Flatbush\n",
      "Corona\n"
     ]
    }
   ],
   "source": [
    "import xmltodict, json, requests\n",
    "state = 'brooklyn'\n",
    "city = 'ny'\n",
    "\n",
    "url = 'http://www.zillow.com/webservice/GetRegionChildren.htm?zws-id=X1-ZWz18mobi4mvij_2doog&state=%s&city=%s&childtype=neighborhood' % (state, city)\n",
    "response = requests.get(url)\n",
    "datas = response.text\n",
    "jsonString = json.dumps(xmltodict.parse(datas), indent=4)\n",
    "\n",
    "with open(\"testingg.json\", 'w') as f:\n",
    "    f.write(jsonString)\n",
    "\n",
    "with open(\"testingg.json\") as d:\n",
    "    datastore = json.load(d)\n",
    "print(datastore['RegionChildren:regionchildren']['response']['list']['region'][1]['name'])\n",
    "print(datastore['RegionChildren:regionchildren']['response']['list']['region'][5]['name'])\n",
    "print(datastore['RegionChildren:regionchildren']['response']['list']['region'][6]['name'])\n",
    "print(datastore['RegionChildren:regionchildren']['response']['list']['region'][7]['name'])\n",
    "print(datastore['RegionChildren:regionchildren']['response']['list']['region'][8]['name'])\n",
    "print(datastore['RegionChildren:regionchildren']['response']['list']['region'][9]['name'])\n",
    "print(datastore['RegionChildren:regionchildren']['response']['list']['region'][10]['name'])\n",
    "print(datastore['RegionChildren:regionchildren']['response']['list']['region'][11]['name'])\n",
    "print(datastore['RegionChildren:regionchildren']['response']['list']['region'][12]['name'])\n",
    "print(datastore['RegionChildren:regionchildren']['response']['list']['region'][13]['name'])\n",
    "print(datastore['RegionChildren:regionchildren']['response']['list']['region'][14]['name'])\n",
    "print(datastore['RegionChildren:regionchildren']['response']['list']['region'][15]['name'])\n",
    "\n",
    "\n"
   ]
  },
  {
   "cell_type": "code",
   "execution_count": 46,
   "metadata": {},
   "outputs": [
    {
     "data": {
      "text/plain": [
       "{'SearchResults:searchresults': {'@xmlns:SearchResults': 'http://www.zillow.com/static/xsd/SearchResults.xsd',\n",
       "  '@xmlns:xsi': 'http://www.w3.org/2001/XMLSchema-instance',\n",
       "  '@xsi:schemaLocation': 'http://www.zillow.com/static/xsd/SearchResults.xsd https://www.zillowstatic.com/vstatic/b20c067/static/xsd/SearchResults.xsd',\n",
       "  'message': {'code': '508',\n",
       "   'text': 'Error: no exact match found for input address'},\n",
       "  'request': {'address': 'en hogan drive', 'citystatezip': 'meane n'}}}"
      ]
     },
     "execution_count": 46,
     "metadata": {},
     "output_type": "execute_result"
    }
   ],
   "source": [
    "def originaldeephouseinfo(street, city, state):\n",
    "    url = 'http://www.zillow.com/webservice/GetDeepSearchResults.htm?zws-id=X1-ZWz18mobi4mvij_2doog&address=%s&citystatezip=%s+%s'% (street, city, state)\n",
    "    response = requests.get(url)\n",
    "    datae = response.text\n",
    "    \n",
    "    jsonString = json.dumps(xmltodict.parse(datae), indent=4)\n",
    "\n",
    "    with open(\"testingg.json\", 'w') as f:\n",
    "        f.write(jsonString)\n",
    "    \n",
    "    with open(\"testingg.json\") as d:\n",
    "        datastore = json.load(d)\n",
    "    \n",
    "    return datastore\n",
    "\n",
    "\n",
    "\n",
    "\n",
    "\n",
    "\n",
    "\n",
    "street = 'en hogan drive'\n",
    "city = 'meane'\n",
    "state = 'n'\n",
    "originaldeephouseinfo(street, city, state)\n",
    "     "
   ]
  },
  {
   "cell_type": "code",
   "execution_count": 16,
   "metadata": {},
   "outputs": [
    {
     "data": {
      "text/plain": [
       "'{\"SearchResults:searchresults\": {\"@xsi:schemaLocation\": \"http://www.zillow.com/static/xsd/SearchResults.xsd https://www.zillowstatic.com/vstatic/b20c067/static/xsd/SearchResults.xsd\", \"@xmlns:xsi\": \"http://www.w3.org/2001/XMLSchema-instance\", \"@xmlns:SearchResults\": \"http://www.zillow.com/static/xsd/SearchResults.xsd\", \"request\": {\"address\": \"10780 gooseneck bend road\", \"citystatezip\": \"platte city mo\"}, \"message\": {\"text\": \"Request successfully processed\", \"code\": \"0\"}, \"response\": {\"results\": {\"result\": {\"zpid\": \"2484253\", \"links\": {\"homedetails\": \"https://www.zillow.com/homedetails/10780-Gooseneck-Bend-Rd-Platte-City-MO-64079/2484253_zpid/\", \"graphsanddata\": \"http://www.zillow.com/homedetails/10780-Gooseneck-Bend-Rd-Platte-City-MO-64079/2484253_zpid/#charts-and-data\", \"mapthishome\": \"http://www.zillow.com/homes/2484253_zpid/\", \"comparables\": \"http://www.zillow.com/homes/comps/2484253_zpid/\"}, \"address\": {\"street\": \"10780 Gooseneck Bend Rd\", \"zipcode\": \"64079\", \"city\": \"PLATTE CITY\", \"state\": \"MO\", \"latitude\": \"39.400595\", \"longitude\": \"-94.699421\"}, \"FIPScounty\": \"29165\", \"useCode\": \"SingleFamily\", \"taxAssessmentYear\": \"2017\", \"taxAssessment\": \"316418.0\", \"yearBuilt\": \"2001\", \"lotSizeSqFt\": \"4850972\", \"finishedSqFt\": \"3171\", \"bathrooms\": \"3.0\", \"zestimate\": {\"amount\": {\"@currency\": \"USD\", \"#text\": \"526190\"}, \"last-updated\": \"05/07/2018\", \"oneWeekChange\": {\"@deprecated\": \"true\"}, \"valueChange\": {\"@duration\": \"30\", \"@currency\": \"USD\", \"#text\": \"11902\"}, \"valuationRange\": {\"low\": {\"@currency\": \"USD\", \"#text\": \"494619\"}, \"high\": {\"@currency\": \"USD\", \"#text\": \"584071\"}}, \"percentile\": \"0\"}, \"localRealEstate\": null}}}}}'"
      ]
     },
     "execution_count": 16,
     "metadata": {},
     "output_type": "execute_result"
    }
   ],
   "source": [
    "number = '10780'\n",
    "street = 'gooseneck bend road'\n",
    "city = 'platte city'\n",
    "state = 'mo'\n",
    "\n",
    "url = 'http://www.zillow.com/webservice/GetDeepSearchResults.htm?zws-id=X1-ZWz18mobi4mvij_2doog&address=%s+%s&citystatezip=%s+%s'% (number, street, city, state)\n",
    "response = requests.get(url)\n",
    "data = response.text\n",
    "d = xmltodict.parse(data)\n",
    "json.dumps(d)"
   ]
  },
  {
   "cell_type": "code",
   "execution_count": 41,
   "metadata": {},
   "outputs": [
    {
     "name": "stdout",
     "output_type": "stream",
     "text": [
      "Please choose either 1,2,3,4 or 5 to find out the cost to live in each neigbourhood: 7\n",
      "Please choose from the list of numbers\n",
      "Please choose either 1,2,3,4 or 5 to find out the cost to live in each neigbourhood: 8\n",
      "Please choose from the list of numbers\n",
      "Please choose either 1,2,3,4 or 5 to find out the cost to live in each neigbourhood: 3\n",
      "shazam\n",
      "thanks\n"
     ]
    }
   ],
   "source": [
    "while True:\n",
    "    number = (int(input(\"Please choose either 1,2,3,4 or 5 to find out the cost to live in each neigbourhood: \")))\n",
    "    if number not in [1, 2, 3, 4, 5]:\n",
    "        print('Please choose from the list of numbers')\n",
    "    else:\n",
    "        print('shazam')\n",
    "        break\n",
    "        \n",
    "print (\"thanks\")"
   ]
  },
  {
   "cell_type": "code",
   "execution_count": null,
   "metadata": {},
   "outputs": [],
   "source": []
  }
 ],
 "metadata": {
  "kernelspec": {
   "display_name": "Python 3",
   "language": "python",
   "name": "python3"
  },
  "language_info": {
   "codemirror_mode": {
    "name": "ipython",
    "version": 3
   },
   "file_extension": ".py",
   "mimetype": "text/x-python",
   "name": "python",
   "nbconvert_exporter": "python",
   "pygments_lexer": "ipython3",
   "version": "3.6.3"
  }
 },
 "nbformat": 4,
 "nbformat_minor": 2
}
